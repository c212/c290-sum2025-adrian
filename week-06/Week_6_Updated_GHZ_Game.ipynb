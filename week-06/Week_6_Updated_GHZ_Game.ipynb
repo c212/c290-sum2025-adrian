{
  "cells": [
    {
      "cell_type": "markdown",
      "metadata": {
        "pycharm": {
          "name": "#%% md\n"
        },
        "id": "DdXeUeIOlVSU"
      },
      "source": [
        "# The GHZ-Game\n",
        "\n",
        "\n",
        "### Solve \"unsolvable\" problems using Quantum Computers\n"
      ]
    },
    {
      "cell_type": "markdown",
      "metadata": {
        "pycharm": {
          "name": "#%% md\n"
        },
        "id": "8eanOJTZlVSV"
      },
      "source": [
        "## Usage instructions for the user interface\n",
        "\n",
        "* \"Shift Enter\" executes the interactive cells (might need to click the cell, first)\n",
        "* Execute all the interactive cells (\"In [1]:\", etc)"
      ]
    },
    {
      "cell_type": "markdown",
      "metadata": {
        "pycharm": {
          "name": "#%% md\n"
        },
        "id": "5dm43WoplVSV"
      },
      "source": [
        "First we need to install some prerequisits. You do not have to understand them for now (just click on the cells and press \"Shift Enter\"):"
      ]
    },
    {
      "cell_type": "code",
      "source": [
        "!pip install qiskit qiskit_aer pylatexenc"
      ],
      "metadata": {
        "id": "bZ5IUJ2glbY0",
        "outputId": "c093b57a-e3ec-42af-e849-0158273a3b49",
        "colab": {
          "base_uri": "https://localhost:8080/"
        }
      },
      "execution_count": null,
      "outputs": [
        {
          "output_type": "stream",
          "name": "stdout",
          "text": [
            "Collecting qiskit\n",
            "  Downloading qiskit-2.1.1-cp39-abi3-manylinux_2_17_x86_64.manylinux2014_x86_64.whl.metadata (12 kB)\n",
            "Collecting qiskit_aer\n",
            "  Downloading qiskit_aer-0.17.1-cp311-cp311-manylinux_2_17_x86_64.manylinux2014_x86_64.whl.metadata (8.3 kB)\n",
            "Collecting pylatexenc\n",
            "  Downloading pylatexenc-2.10.tar.gz (162 kB)\n",
            "\u001b[2K     \u001b[90m━━━━━━━━━━━━━━━━━━━━━━━━━━━━━━━━━━━━━━━\u001b[0m \u001b[32m162.6/162.6 kB\u001b[0m \u001b[31m4.7 MB/s\u001b[0m eta \u001b[36m0:00:00\u001b[0m\n",
            "\u001b[?25h  Preparing metadata (setup.py) ... \u001b[?25l\u001b[?25hdone\n",
            "Collecting rustworkx>=0.15.0 (from qiskit)\n",
            "  Downloading rustworkx-0.16.0-cp39-abi3-manylinux_2_17_x86_64.manylinux2014_x86_64.whl.metadata (10 kB)\n",
            "Requirement already satisfied: numpy<3,>=1.17 in /usr/local/lib/python3.11/dist-packages (from qiskit) (2.0.2)\n",
            "Requirement already satisfied: scipy>=1.5 in /usr/local/lib/python3.11/dist-packages (from qiskit) (1.16.0)\n",
            "Requirement already satisfied: dill>=0.3 in /usr/local/lib/python3.11/dist-packages (from qiskit) (0.3.8)\n",
            "Collecting stevedore>=3.0.0 (from qiskit)\n",
            "  Downloading stevedore-5.4.1-py3-none-any.whl.metadata (2.3 kB)\n",
            "Requirement already satisfied: typing-extensions in /usr/local/lib/python3.11/dist-packages (from qiskit) (4.14.1)\n",
            "Requirement already satisfied: psutil>=5 in /usr/local/lib/python3.11/dist-packages (from qiskit_aer) (5.9.5)\n",
            "Requirement already satisfied: python-dateutil>=2.8.0 in /usr/local/lib/python3.11/dist-packages (from qiskit_aer) (2.9.0.post0)\n",
            "Requirement already satisfied: six>=1.5 in /usr/local/lib/python3.11/dist-packages (from python-dateutil>=2.8.0->qiskit_aer) (1.17.0)\n",
            "Collecting pbr>=2.0.0 (from stevedore>=3.0.0->qiskit)\n",
            "  Downloading pbr-6.1.1-py2.py3-none-any.whl.metadata (3.4 kB)\n",
            "Requirement already satisfied: setuptools in /usr/local/lib/python3.11/dist-packages (from pbr>=2.0.0->stevedore>=3.0.0->qiskit) (75.2.0)\n",
            "Downloading qiskit-2.1.1-cp39-abi3-manylinux_2_17_x86_64.manylinux2014_x86_64.whl (7.5 MB)\n",
            "\u001b[2K   \u001b[90m━━━━━━━━━━━━━━━━━━━━━━━━━━━━━━━━━━━━━━━━\u001b[0m \u001b[32m7.5/7.5 MB\u001b[0m \u001b[31m85.8 MB/s\u001b[0m eta \u001b[36m0:00:00\u001b[0m\n",
            "\u001b[?25hDownloading qiskit_aer-0.17.1-cp311-cp311-manylinux_2_17_x86_64.manylinux2014_x86_64.whl (12.4 MB)\n",
            "\u001b[2K   \u001b[90m━━━━━━━━━━━━━━━━━━━━━━━━━━━━━━━━━━━━━━━━\u001b[0m \u001b[32m12.4/12.4 MB\u001b[0m \u001b[31m99.5 MB/s\u001b[0m eta \u001b[36m0:00:00\u001b[0m\n",
            "\u001b[?25hDownloading rustworkx-0.16.0-cp39-abi3-manylinux_2_17_x86_64.manylinux2014_x86_64.whl (2.1 MB)\n",
            "\u001b[2K   \u001b[90m━━━━━━━━━━━━━━━━━━━━━━━━━━━━━━━━━━━━━━━━\u001b[0m \u001b[32m2.1/2.1 MB\u001b[0m \u001b[31m88.9 MB/s\u001b[0m eta \u001b[36m0:00:00\u001b[0m\n",
            "\u001b[?25hDownloading stevedore-5.4.1-py3-none-any.whl (49 kB)\n",
            "\u001b[2K   \u001b[90m━━━━━━━━━━━━━━━━━━━━━━━━━━━━━━━━━━━━━━━━\u001b[0m \u001b[32m49.5/49.5 kB\u001b[0m \u001b[31m3.9 MB/s\u001b[0m eta \u001b[36m0:00:00\u001b[0m\n",
            "\u001b[?25hDownloading pbr-6.1.1-py2.py3-none-any.whl (108 kB)\n",
            "\u001b[2K   \u001b[90m━━━━━━━━━━━━━━━━━━━━━━━━━━━━━━━━━━━━━━━━\u001b[0m \u001b[32m109.0/109.0 kB\u001b[0m \u001b[31m9.0 MB/s\u001b[0m eta \u001b[36m0:00:00\u001b[0m\n",
            "\u001b[?25hBuilding wheels for collected packages: pylatexenc\n",
            "  Building wheel for pylatexenc (setup.py) ... \u001b[?25l\u001b[?25hdone\n",
            "  Created wheel for pylatexenc: filename=pylatexenc-2.10-py3-none-any.whl size=136817 sha256=d55c475271ef42a9a384e1cb99fa15552435bd8b0bc9345b5b91c2844b28395f\n",
            "  Stored in directory: /root/.cache/pip/wheels/b1/7a/33/9fdd892f784ed4afda62b685ae3703adf4c91aa0f524c28f03\n",
            "Successfully built pylatexenc\n",
            "Installing collected packages: pylatexenc, rustworkx, pbr, stevedore, qiskit, qiskit_aer\n",
            "Successfully installed pbr-6.1.1 pylatexenc-2.10 qiskit-2.1.1 qiskit_aer-0.17.1 rustworkx-0.16.0 stevedore-5.4.1\n"
          ]
        }
      ]
    },
    {
      "cell_type": "code",
      "source": [
        "from qiskit import ClassicalRegister, QuantumRegister, QuantumCircuit\n",
        "from qiskit import transpile\n",
        "from qiskit_aer import AerSimulator\n",
        "from random import randint\n",
        "\n",
        "def Alice(AlicesColor, AlicesShape): global a_color; global a_shape; a_color=AlicesColor; a_shape = AlicesShape;\n",
        "def Bob(BobsColor, BobsShape): global b_color; global b_shape; b_color=BobsColor; b_shape = BobsShape;\n",
        "def You(YourColor, YourShape): global y_color; global y_shape; y_color=YourColor; y_shape = YourShape;\n",
        "\n",
        "def geta_color(): return a_color;\n",
        "def getb_color(): return b_color;\n",
        "def gety_color(): return y_color;\n",
        "def geta_shape(): return a_shape;\n",
        "def getb_shape(): return b_shape;\n",
        "def gety_shape(): return y_shape;\n",
        "\n",
        "def ghz_state(qc,q):\n",
        "    # create GHZ state\n",
        "    qc.h(q[0])\n",
        "    qc.cx(q[0],q[1])\n",
        "    qc.cx(q[0],q[2])\n",
        "    qc.barrier()\n",
        "    return qc\n",
        "\n",
        "def runExperiment():\n",
        "    for i in range (1,5):\n",
        "        correctEinstein = False; correctSchr = False;\n",
        "        # create the quantum circuit with the chosen coin moves\n",
        "        q = QuantumRegister(3) # create a quantum register with one qubit\n",
        "        # create a classical register that will hold the results of the measurement\n",
        "        c = ClassicalRegister(3)\n",
        "        qc = QuantumCircuit(q, c) # creates the quantum circuit\n",
        "        ghz_state(qc,q) # bring circuit in ghz_state\n",
        "        if (i ==1): # ask all for color\n",
        "            # team Einstein (classical)\n",
        "            if (a_color*b_color*y_color == -1): correctEinstein = True; # if the product of the x values = -1 -> win\n",
        "            # team Schrödinger (quantum)\n",
        "            xxx(qc, q)\n",
        "            counts = simulate(qc, q, c, 1)\n",
        "            if (\"000\" in counts or \"011\" in counts or \"101\" in counts or \"110\" in counts): correctSchr = True; # if the product of the x values = -1 -> win\n",
        "        else:\n",
        "            if (i==2): # if the random number is 1 make an XYY-measurement\n",
        "                if (a_color*b_shape*y_shape == 1): correctEinstein = True;\n",
        "                xyy(qc, q)\n",
        "            elif (i==3): # YXY-measurement\n",
        "                if (a_shape*b_color*y_shape == 1): correctEinstein = True;\n",
        "                yxy(qc, q)\n",
        "            elif (i==4): # YYX-measurement\n",
        "                if (a_shape*b_shape*y_color == 1): correctEinstein = True;\n",
        "                yyx(qc, q)\n",
        "            counts = simulate(qc, q, c, 1)\n",
        "            if (\"001\" in counts or \"010\" in counts or \"100\" in counts or \"111\" in counts): correctSchr = True; # if product = 1 -> win\n",
        "        print (\"Round \", i, \", Question \", i)\n",
        "        if (correctSchr == True and correctEinstein != True): print (\"Team Einstein was wrong, Team Schrödinger was right\");\n",
        "        elif (correctSchr != True and correctEinstein == True): print (\"Team Einstein was right, Team Schrödinger was wrong\");\n",
        "        else: print (\"Both teams were right\")\n",
        "        i = i+1;\n",
        "\n",
        "def xxx(qc, q):\n",
        "    qc.h(q[0])\n",
        "    qc.h(q[1])\n",
        "    qc.h(q[2])\n",
        "    return qc\n",
        "\n",
        "def xyy(qc, q):\n",
        "    qc.h(q[0])\n",
        "    qc.sdg(q[1])\n",
        "    qc.h(q[1])\n",
        "    qc.sdg (q[2])\n",
        "    qc.h(q[2])\n",
        "    return qc\n",
        "\n",
        "def yxy(qc, q):\n",
        "    qc.sdg(q[0])\n",
        "    qc.h(q[0])\n",
        "    qc.h(q[1])\n",
        "    qc.sdg (q[2])\n",
        "    qc.h(q[2])\n",
        "    return qc\n",
        "\n",
        "def yyx(qc, q):\n",
        "    qc.sdg(q[0])\n",
        "    qc.h(q[0])\n",
        "    qc.h(q[1])\n",
        "    qc.sdg(q[2])\n",
        "    qc.h(q[2])\n",
        "    return qc\n",
        "\n",
        "def simulate(qc, q, c, s):\n",
        "    backend = AerSimulator() # define the backend\n",
        "    qc.measure(q,c)\n",
        "    job = backend.run(qc, shots=s) # run the job simulation\n",
        "    result = job.result() # grab the result\n",
        "    counts = result.get_counts(qc) # results for the number of runs\n",
        "    return counts\n",
        "\n",
        "def randomQuestion():\n",
        "    print (\"The question your team is getting asked is:\")\n",
        "    x = randint (1,4)\n",
        "    if (x == 1): print(\"Color, color, color\");\n",
        "    if (x == 2): print(\"Color, shape, shape\");\n",
        "    if (x == 3): print(\"Shape, shape, color\");\n",
        "    if (x == 4): print(\"Shape, color, shape\");\n",
        "    return x;\n",
        "\n",
        "def correctAnswer(x): # prints out the\n",
        "    print (\"Copy the following code in the cell above:\\n\\n\")\n",
        "    if (x==1):\n",
        "        print (\"qc.h(q[0])\\nqc.h(q[1])\\nqc.h(q[2])\")\n",
        "    if (x==2):\n",
        "        print (\"qc.h(q[0])\\nqc.sdg(q[1])\\nqc.h(q[1])\\nqc.sdg(q[2])\\nqc.h(q[2])\")\n",
        "    if (x==3):\n",
        "        print (\"qc.sdg(q[0])\\nqc.h(q[0])\\nqc.sdg(q[1])\\nqc.h(q[1])\\nqc.h(q[2])\")\n",
        "    if (x==4):\n",
        "        print (\"qc.sdg(q[0])\\nqc.h(q[0])\\nqc.h(q[1])\\nqc.sdg(q[2])\\nqc.h(q[2])\")\n",
        "\n",
        "\n",
        "def circuitCheck(qc,q,c,x):\n",
        "    counts = simulate(qc, q, c, 100)\n",
        "    if (x==1): # ask all for color\n",
        "        if ((\"000\" in counts or \"011\" in counts or \"101\" in counts or \"110\" in counts) and (\"001\" not in counts and \"010\" not in counts and \"100\" not in counts and \"111\" not in counts)):\n",
        "            print (\"Perfect! Your team won!\")\n",
        "        else: print (\"Hmmm... There might still be a mistake.\")\n",
        "    else:\n",
        "        if ((\"001\" in counts or \"010\" in counts or \"100\" in counts or \"111\" in counts) and (\"000\" not in counts and \"011\" not in counts and \"101\" not in counts and \"110\" not in counts)):\n",
        "            print (\"Perfect! Your team won!\")\n",
        "        else: print (\"Hmmm... There might still be a mistake.\")\n",
        "\n",
        "def quiz():\n",
        "    print (\"(a) All 8 possible states equally mixed (|000>, |001>, |010>, ..., |110>, |111>)\\n(b) A random distribution across all 8 states (|000>, |001>, |010>, ..., |110>, |111>)\\n(c) Measurement result in 50% is state |000> and in 50% is state |100>\\n(d) Measurement result in 50% is state |000> and in 50% is state |111>\")\n",
        "    answer = input()\n",
        "    if answer == \"d\" or answer == \"D\":\n",
        "        print (\"Your answer was correct!\")\n",
        "    else:\n",
        "        print (\"No, try again!\")\n"
      ],
      "metadata": {
        "id": "6ItVB1owmKtn"
      },
      "execution_count": null,
      "outputs": []
    },
    {
      "cell_type": "code",
      "execution_count": null,
      "metadata": {
        "pycharm": {
          "name": "#%%\n"
        },
        "id": "UNNLLt96lVSV"
      },
      "outputs": [],
      "source": [
        "#import prerequisites\n",
        "from ipywidgets import interact\n",
        "from qiskit.quantum_info import Statevector\n",
        "from qiskit.visualization import plot_histogram, plot_bloch_multivector, plot_bloch_vector, plot_state_qsphere\n",
        "# GHZGame did not want to import, so I just put the code in this file above\n",
        "# from GHZGame.ghzGame import *"
      ]
    },
    {
      "cell_type": "code",
      "execution_count": null,
      "metadata": {
        "pycharm": {
          "name": "#%%\n"
        },
        "id": "wiTp7t-TlVSW"
      },
      "outputs": [],
      "source": [
        "# create the quantum circuit with the chosen coin moves\n",
        "q = QuantumRegister(3) # create a quantum register with one qubit\n",
        "# create a classical register that will hold the results of the measurement\n",
        "c = ClassicalRegister(3)\n",
        "qc = QuantumCircuit(q, c) # creates the quantum circuit\n",
        "backend = AerSimulator() # define the backend, here a Quantum simulator"
      ]
    },
    {
      "cell_type": "markdown",
      "metadata": {
        "pycharm": {
          "name": "#%% md\n"
        },
        "id": "V34C91S4lVSW"
      },
      "source": [
        "# Let's play a game!"
      ]
    },
    {
      "cell_type": "markdown",
      "metadata": {
        "pycharm": {
          "name": "#%% md\n"
        },
        "id": "fMkhJoFqlVSW"
      },
      "source": [
        "We form two teams of three players. Your team is called \"Team Einstein\" and your team members are Alice and Bob (and you, of course). The other team is called \"Team Schrödinger\" and - as the name indicates - will be able to exploit quantum mechanics."
      ]
    },
    {
      "cell_type": "markdown",
      "metadata": {
        "pycharm": {
          "name": "#%% md\n"
        },
        "id": "EqgboYvVlVSW"
      },
      "source": [
        "## The rules for this game are as follows:"
      ]
    },
    {
      "cell_type": "markdown",
      "metadata": {
        "pycharm": {
          "name": "#%% md\n"
        },
        "id": "NAGONSPPlVSW"
      },
      "source": [
        "- Each player thinks of a color (red or blue) and a shape (star or rectangle)."
      ]
    },
    {
      "cell_type": "markdown",
      "metadata": {
        "pycharm": {
          "name": "#%% md\n"
        },
        "id": "CUyecZYxlVSX"
      },
      "source": [
        "- The game master than asks either all players for a color or one for a color and two for a shape. In total, four different kinds of questions can be asked:\n",
        "\n",
        "\n",
        "1. Color, color, color\n",
        "2. Color, shape, shape\n",
        "3. Shape, color, shape\n",
        "4. Shape, shape, color\n",
        "\n",
        "Which of the four sets of questions is used, is chosen randomly."
      ]
    },
    {
      "cell_type": "markdown",
      "metadata": {
        "pycharm": {
          "name": "#%% md\n"
        },
        "id": "GdU9RvpjlVSX"
      },
      "source": [
        "- Once the questions are asked, the team members are not allowed to communicate anymore. Before that, the team members are allowed to agree on a strategy."
      ]
    },
    {
      "cell_type": "markdown",
      "metadata": {
        "pycharm": {
          "name": "#%% md\n"
        },
        "id": "4Q4THFuolVSX"
      },
      "source": [
        "- In the case that all players are asked for a color (1.), the team wins if an even number of people answered with red. Otherwise (when two are asked for a shape and only one for a color) they win if an uneven number of players answered with either red or star depending on the question they were asked."
      ]
    },
    {
      "cell_type": "markdown",
      "metadata": {
        "pycharm": {
          "name": "#%% md\n"
        },
        "id": "RBE6tr5BlVSX"
      },
      "source": [
        "### Example:\n",
        "\n",
        "Question: Color, color, color\n",
        "\n",
        "Answer: red, red, blue\n",
        "> right answer, even number of red.\n",
        "\n",
        "Question: Color, shape, shape\n",
        "\n",
        "Answer: red, star, rectangle\n",
        "> wrong answer, even number of red and star, should be uneven.\n"
      ]
    },
    {
      "cell_type": "markdown",
      "metadata": {
        "pycharm": {
          "name": "#%% md\n"
        },
        "id": "iRbxvyxMlVSX"
      },
      "source": [
        "If you think about a *real* object that will answer the question about color and shape, each team member could  choose to think of one of the following four objects.  You are allowed to change your mind as often as you want as long as you do not know whether your team members were asked for a color or a shape:\n",
        "![title](https://github.com/akaMrsP/Fun-with-Quantum/blob/master/GHZGame/shapes.png?raw=1)"
      ]
    },
    {
      "cell_type": "markdown",
      "metadata": {
        "pycharm": {
          "name": "#%% md\n"
        },
        "id": "BBas1-ZElVSX"
      },
      "source": [
        "## Make your choices:\n",
        "(The 0 or 1 inside the brakets of the drop down fields below show the corresponding bit value. 0 is interpreted as red or star and 1 as blue or rectangle.)"
      ]
    },
    {
      "cell_type": "code",
      "execution_count": null,
      "metadata": {
        "pycharm": {
          "is_executing": true,
          "name": "#%%\n"
        },
        "scrolled": false,
        "id": "TaLtO90jlVSX",
        "outputId": "8724ece2-f50e-465a-d326-430c5c44dcfa",
        "colab": {
          "base_uri": "https://localhost:8080/",
          "height": 313,
          "referenced_widgets": [
            "e18a7df46df84b3fa2970802b22b078a",
            "8aeec7c523ff44599464dcb0d378415c",
            "783a10e51e2e47658678dd0e1bd6250b",
            "1450039160e54982bf490136f7bfd505",
            "5d195f7a37e7483c8b1ad474f17c5b70",
            "1c3f4a58938f451a89677470ca96f5f0",
            "0774e8273ecd4adbac0dd9154a498ff4",
            "e9a7102f3f054eb2b33630a7a9f4950b",
            "eca1db686062492b9fab709c5cab3fe4",
            "8a985c69d7a4415e9a6f25fe01461321",
            "19514f00d2a04945be91a2733c1c46fb",
            "465553cb83684ef380bbcde6f4955c03",
            "239e6bd8ba5c4277a1610c28696df31b",
            "c5b525bb818c452b9eb72d3fabb969ab",
            "26d24c63ecce4692ad505e1e1297e978",
            "54f586496e7348eb80f3dd47247359bb",
            "32d2c2267112433d8238f421982c0fdd",
            "8c9973b9ebfa4ef5b4eedfb6fc974d7a",
            "f187ab135b684626b58e45c6d098c37f",
            "d099f7444192468088b675123ea1e52a",
            "89326be0eb34428a99e665929a91b0a6",
            "fc94d49337fd40768671e29d98838e14",
            "b7de3cb5c6394a04aa826d0a307379d6",
            "4a46f5ace70440cca954a3e3ec60e4f9",
            "5441987b404a4cd580c2d905060a2754",
            "e4763b62b4c341e1ab48d77811c06af8",
            "970d1581c0c04622bcde82fd4f623fd0",
            "4779b0742e654938ba8e7885065bc162",
            "ad27c7503bef457aaf0ccd0150a5c3be",
            "c80dee1ef34e4777ad807b286ed00712"
          ]
        }
      },
      "outputs": [
        {
          "output_type": "stream",
          "name": "stdout",
          "text": [
            "Your team can now discuss which values each of you will say when asked either for the color or the shape of your object.\n",
            "\n",
            "Alice:\n"
          ]
        },
        {
          "output_type": "display_data",
          "data": {
            "text/plain": [
              "interactive(children=(Dropdown(description='AlicesColor', options={'red (1)': 1, 'blue (0)': -1}, value=1), Dr…"
            ],
            "application/vnd.jupyter.widget-view+json": {
              "version_major": 2,
              "version_minor": 0,
              "model_id": "e18a7df46df84b3fa2970802b22b078a"
            }
          },
          "metadata": {}
        },
        {
          "output_type": "stream",
          "name": "stdout",
          "text": [
            "Bob:\n"
          ]
        },
        {
          "output_type": "display_data",
          "data": {
            "text/plain": [
              "interactive(children=(Dropdown(description='BobsColor', options={'red (1)': 1, 'blue (0)': -1}, value=1), Drop…"
            ],
            "application/vnd.jupyter.widget-view+json": {
              "version_major": 2,
              "version_minor": 0,
              "model_id": "19514f00d2a04945be91a2733c1c46fb"
            }
          },
          "metadata": {}
        },
        {
          "output_type": "stream",
          "name": "stdout",
          "text": [
            "You:\n"
          ]
        },
        {
          "output_type": "display_data",
          "data": {
            "text/plain": [
              "interactive(children=(Dropdown(description='YourColor', options={'red (1)': 1, 'blue (0)': -1}, value=1), Drop…"
            ],
            "application/vnd.jupyter.widget-view+json": {
              "version_major": 2,
              "version_minor": 0,
              "model_id": "89326be0eb34428a99e665929a91b0a6"
            }
          },
          "metadata": {}
        },
        {
          "output_type": "stream",
          "name": "stdout",
          "text": [
            "\n"
          ]
        }
      ],
      "source": [
        "print ('Your team can now discuss which values each of you will say when asked either for the color or the shape of your object.')\n",
        "print ('')\n",
        "\n",
        "print ('Alice:')\n",
        "interact(Alice, AlicesColor={'red (1)':1,'blue (0)':-1}, AlicesShape={'star (1)':1,'rectangle (0)':-1})\n",
        "\n",
        "print ('Bob:')\n",
        "interact(Bob, BobsColor={'red (1)':1,'blue (0)':-1}, BobsShape={'star (1)':1,'rectangle (0)':-1})\n",
        "\n",
        "print ('You:')\n",
        "interact(You, YourColor={'red (1)':1,'blue (0)':-1}, YourShape={'star (1)':1,'rectangle (0)':-1})\n",
        "print ('')"
      ]
    },
    {
      "cell_type": "markdown",
      "metadata": {
        "pycharm": {
          "name": "#%% md\n"
        },
        "id": "NC3Iwe5xlVSY"
      },
      "source": [
        "If you are confident with your choices try it out here. Do you have a 100% winning strategie that gives the correct answer for each of the four sets of questions? (\"If you loose once, you will stay in prison forever\".)"
      ]
    },
    {
      "cell_type": "code",
      "execution_count": null,
      "metadata": {
        "pycharm": {
          "name": "#%%\n"
        },
        "id": "Srxk7iAllVSY",
        "outputId": "333c8d35-6bfa-4570-91d0-75f8885accb0",
        "colab": {
          "base_uri": "https://localhost:8080/"
        }
      },
      "outputs": [
        {
          "output_type": "stream",
          "name": "stdout",
          "text": [
            "Round  1 , Question  1\n",
            "Team Einstein was wrong, Team Schrödinger was right\n",
            "Round  2 , Question  2\n",
            "Both teams were right\n",
            "Round  3 , Question  3\n",
            "Both teams were right\n",
            "Round  4 , Question  4\n",
            "Both teams were right\n"
          ]
        }
      ],
      "source": [
        "# runs the experiment for both teams, asking all four questions.\n",
        "runExperiment()"
      ]
    },
    {
      "cell_type": "markdown",
      "metadata": {
        "pycharm": {
          "name": "#%% md\n"
        },
        "id": "0cLpBgJWlVSY"
      },
      "source": [
        "## Why has the other team a 100% winning strategie while your team does not?\n",
        "\n",
        "To find out what they do differently you talk to team Schrödinger and their team member Erwin explains what they did."
      ]
    },
    {
      "cell_type": "markdown",
      "metadata": {
        "pycharm": {
          "name": "#%% md\n"
        },
        "id": "5gOXtorhlVSY"
      },
      "source": [
        "Bob:\n",
        "\"*How did you do that? Isn't it impossible to constantly win this game? I mean look at this, we tried to solve it mathematically and the problem is unsolvable, you must have cheated!*\"\n",
        "\n",
        "(For easier calculations we replaced 0 for blue and rectangle with -1)\n",
        "    \n",
        "\n",
        "    \n",
        "   ![title](https://github.com/akaMrsP/Fun-with-Quantum/blob/master/GHZGame/proof1.png?raw=1)"
      ]
    },
    {
      "cell_type": "markdown",
      "metadata": {
        "pycharm": {
          "name": "#%% md\n"
        },
        "id": "nTwwcLRolVSY"
      },
      "source": [
        "Erwin (from team Schrödinger):\n",
        "\"*Yes, you are right, but we did not cheat! We used so-called qubits and entanglement and with that it is possible to always win.*\"\n",
        "\n",
        "Bob:\n",
        "\"*What exactly is that and how does it work?*\"\n",
        "    \n",
        "Erwin:\n",
        "\"*Each of us had a qubit. You can imagine them as a little sphere with a vector pointing in\n",
        "    one direction. This vector describes the state the qubit is currently in.*\""
      ]
    },
    {
      "cell_type": "code",
      "execution_count": null,
      "metadata": {
        "pycharm": {
          "name": "#%%\n"
        },
        "id": "hLRSCQgMlVSY",
        "outputId": "b8fefad5-ed27-462e-f5eb-78497924ace4",
        "colab": {
          "base_uri": "https://localhost:8080/",
          "height": 536
        }
      },
      "outputs": [
        {
          "output_type": "execute_result",
          "data": {
            "text/plain": [
              "<Figure size 500x500 with 1 Axes>"
            ],
            "image/png": "[encoded data removed]"
          },
          "metadata": {},
          "execution_count": 7
        }
      ],
      "source": [
        "plot_bloch_vector([1,0,0])"
      ]
    },
    {
      "cell_type": "markdown",
      "metadata": {
        "pycharm": {
          "name": "#%% md\n"
        },
        "id": "kfrCxmt7lVSY"
      },
      "source": [
        "Erwin:\n",
        "\"*However - as you know from quantum mechanics - you cannot see in which state the qubit is, but\n",
        "    need to measure it to find out something about its state. The result of a measurement is always\n",
        "    either 0 or 1. These values correspond to the shape and color of the objects in such a way that we\n",
        "    answered with red or star whenever measuring 1 and accordingly with blue or rectangle when measuring 0.\n",
        "    For example, when asked for the color of your object and you are measuring a 0 you answer blue. For a 1\n",
        "    your answer would be red.*\n",
        "    \n",
        "*The vector in the sphere above, is in a position other than 0 (top of the sphere) or 1 (at the bottom). When\n",
        "    measuring, you would still get one of these results. In this case, it would be 0 with 50% probability\n",
        "    and 1 with 50% probability. The actual result for a single measurement is random.*\""
      ]
    },
    {
      "cell_type": "markdown",
      "metadata": {
        "pycharm": {
          "name": "#%% md\n"
        },
        "id": "Cx37nI4qlVSY"
      },
      "source": [
        "Erwin:\n",
        "\"*So we used qubits that were entangled with each other and different \"observables\" of a quantum object. Normally, a Quantum Computer measures the Z-basis of a qubit but we measured X when asked for a color and when asked for a shape we measured Y. The result for the Y measurement in the example above\n",
        "    would always be 1, instead of the 50% probability of 0 or 1 when measuring the Z-value.\n",
        "    I will explain later why exactly this works but as all three of our qubits were entangled, we got the correct answer for all cases.*\""
      ]
    },
    {
      "cell_type": "markdown",
      "metadata": {
        "pycharm": {
          "name": "#%% md\n"
        },
        "id": "wzgXdD3glVSZ"
      },
      "source": [
        "Bob:\n",
        "\"*But isn't that against the rule to not communicate with each other after the question was asked?*\"\n",
        "    \n",
        "Erwin:\n",
        "\"*No it is not because the qubits do not communicate with each other. They are just correlated in\n",
        "    such a way that they cannot be seen as independent. We can just try it out :) Before we start we\n",
        "    need to bring all our three qubits into the so-called GHZ-state. This is an entangled state that creates\n",
        "    dependencies between the qubits. To do so, we need to apply the following Quantum circuit:*\""
      ]
    },
    {
      "cell_type": "code",
      "execution_count": null,
      "metadata": {
        "pycharm": {
          "name": "#%%\n"
        },
        "id": "WFlMc1YOlVSZ",
        "outputId": "34609a2c-ef8a-4605-f476-734329eb7423",
        "colab": {
          "base_uri": "https://localhost:8080/",
          "height": 320
        }
      },
      "outputs": [
        {
          "output_type": "execute_result",
          "data": {
            "text/plain": [
              "<Figure size 472.747x367.889 with 1 Axes>"
            ],
            "image/png": "[encoded data removed]"
          },
          "metadata": {},
          "execution_count": 8
        }
      ],
      "source": [
        "# this circuit is explained in more detail later on.\n",
        "qc = QuantumCircuit(q, c)\n",
        "# create GHZ state\n",
        "qc.h(q[0]) #apply H-gate to the first qubit\n",
        "qc.cx(q[0],q[1]) #entangle the first two qubits\n",
        "qc.cx(q[0],q[2]) #entangle the first and the last qubit\n",
        "qc.barrier() #visual seperation (optional)\n",
        "qc.draw(output='mpl')"
      ]
    },
    {
      "cell_type": "markdown",
      "metadata": {
        "pycharm": {
          "name": "#%% md\n"
        },
        "id": "JsbUlumSlVSZ"
      },
      "source": [
        "Erwin:  \n",
        "\"*The first gate we see in the circuit above is the H-gate which brings the qubit into a\n",
        "            Superposition. When measured it has a 50% probability of beeing 0 and a 50% probability of beeing 1.*\"\n",
        "\n",
        "\"*The other gates we see look different. They are called CNOT-gates and operate on 2 qubits.\n",
        "            The qubit with the dot is the control bit and the other one with the cross sign is the target\n",
        "            bit. If the control bit is one an X-gate is applied to the target bit. Otherwise nothing happens.*\"\n",
        "            \n",
        "(An X-gate cannot be found in the picture above. The X-gate is similar to a NOT-gate used on classical computers. When applied to a qubit in state $ \\;\\;|1\\rangle $ it becomes $ \\;\\;|0\\rangle $ and the other way around.)"
      ]
    },
    {
      "cell_type": "markdown",
      "metadata": {
        "pycharm": {
          "name": "#%% md\n"
        },
        "id": "Z04Vo8KalVSZ"
      },
      "source": [
        "Erwin:  \"*On a Quantum Computer you can only measure what\n",
        "            points in the direction of the Z-axis. Therefore, we need to make the state vector point in the  direction to derive information about the X or Y basis. When you are asked for the color (corresponds to x value) of your qubit you need to apply an\n",
        "            H-gate and measure the state afterwards. Applying the H-gate turns your state vector 180° around the\n",
        "            Z-axis and 90° around the Y-axis and therefore, enables you to read out the X-value.*\n",
        "            \n",
        "*When asked for\n",
        "            the shape you apply the sdg-gate followed by an H-gate and measure afterwards. This corresponds to\n",
        "            a Y measurement (shape) as the sdg gate turns the object by 270° around the Z-axis so that the\n",
        "            shape of the object is now pointing towards X. When applying an H-gate afterwards, it turns the\n",
        "            object 180° around the Z-axis and 90° around the Y-axis so that it is now pointing towards Z which is the only axis we are able to measure.*\n",
        "            \n",
        "*You can try to reconstruct the movements of a single qubit using the visualization below. Whether\n",
        "            the top or bottom side of the dice is revealed in a measurement is randomly chosen. In the initial\n",
        "            GHZ-state the dice is pointing up with a black side so that a color is pointing towards X and a\n",
        "            shape towards Y.*\""
      ]
    },
    {
      "cell_type": "markdown",
      "metadata": {
        "pycharm": {
          "name": "#%% md\n"
        },
        "id": "uutnI4dDlVSZ"
      },
      "source": [
        "![title](https://github.com/akaMrsP/Fun-with-Quantum/blob/master/GHZGame/visualization.png?raw=1)"
      ]
    },
    {
      "cell_type": "markdown",
      "metadata": {
        "pycharm": {
          "name": "#%% md\n"
        },
        "id": "ZK1kf6W_lVSZ"
      },
      "source": [
        "Erwin:  \n",
        "\"*The results for each player seems to be perfectly random, but all three results in fact are\n",
        "            strongly correlated and not independent. This is caused by the entanglement. The Bloch Sphere\n",
        "            visualization can only be used for a single qubit, but not for the entire (entangled) system\n",
        "            of multiple qubits. However the so-called QSphere shows that the measurement results of the GHZ-State can only be |000> or |111> with equal probability:*\""
      ]
    },
    {
      "cell_type": "code",
      "execution_count": null,
      "metadata": {
        "pycharm": {
          "name": "#%%\n"
        },
        "id": "JMXFfy6-lVSZ",
        "outputId": "a8bc1fb3-d79f-404d-dc9f-78433acf0335",
        "colab": {
          "base_uri": "https://localhost:8080/",
          "height": 576
        }
      },
      "outputs": [
        {
          "output_type": "execute_result",
          "data": {
            "text/plain": [
              "<Figure size 700x700 with 2 Axes>"
            ],
            "image/png": "[encoded data removed]"
          },
          "metadata": {},
          "execution_count": 9
        }
      ],
      "source": [
        "backend = AerSimulator() # the device to run on\n",
        "result = backend.run(qc).result()\n",
        "psi = Statevector.from_instruction(qc)\n",
        "plot_state_qsphere(psi)"
      ]
    },
    {
      "cell_type": "code",
      "execution_count": null,
      "metadata": {
        "pycharm": {
          "name": "#%%\n"
        },
        "id": "9MtAb_QAlVSZ",
        "outputId": "27939163-c51c-4e6f-f62f-66b3e357fedd",
        "colab": {
          "base_uri": "https://localhost:8080/",
          "height": 337
        }
      },
      "outputs": [
        {
          "output_type": "stream",
          "name": "stdout",
          "text": [
            "To measure the Y-basis of a quantum state, the following quantum circuit can be used:\n"
          ]
        },
        {
          "output_type": "execute_result",
          "data": {
            "text/plain": [
              "<Figure size 389.136x367.889 with 1 Axes>"
            ],
            "image/png": "[encoded data removed]"
          },
          "metadata": {},
          "execution_count": 10
        }
      ],
      "source": [
        "print (\"To measure the Y-basis of a quantum state, the following quantum circuit can be used:\")\n",
        "qc = QuantumCircuit(q, c) #create a new Quantum circuit\n",
        "# If measuring the X or Z-value, this step is not necessary:\n",
        "#apply sdg-gate to qubit 0. Vector moves 90° counterclockwise around the Z-axis (e.g. from y-basis to x-basis)\n",
        "qc.sdg(q[0])\n",
        "# If measuring the Z-value, this step is not necessary:\n",
        "#apply H-gate to qubit 0. Vector moves 180° around the Z-axis and 90° around the Y-axis (e.g. from x-basis to z-basis)\n",
        "qc.h(q[0])\n",
        "#create measurement gate for qubit 0\n",
        "qc.measure(q[0],c[0])\n",
        "#draw the circuit\n",
        "qc.draw(output='mpl')"
      ]
    },
    {
      "cell_type": "markdown",
      "metadata": {
        "pycharm": {
          "name": "#%% md\n"
        },
        "id": "pa0IB27tlVSa"
      },
      "source": [
        "    Can you modify the cell above to build a Quantum circuit that is suitable for an X measurement by\n",
        "    commenting out or deleting the line that is not necessary?\n",
        "\n",
        "    Can you do the same for a Z-measurement?"
      ]
    },
    {
      "cell_type": "markdown",
      "metadata": {
        "pycharm": {
          "name": "#%% md\n"
        },
        "id": "jN53KzwBlVSa"
      },
      "source": [
        "    A quantum circuit that can be used when your team is asked for the XYY-values, therefore, could look like\n",
        "    this:\n",
        "    (XYY means that Alice (player 1) is asked for the color while Bob and you (player 2 and 3) are asked for\n",
        "    a shape.\n",
        "    1 -> red or star\n",
        "    0 -> blue or rectangle)"
      ]
    },
    {
      "cell_type": "code",
      "execution_count": null,
      "metadata": {
        "pycharm": {
          "name": "#%%\n"
        },
        "id": "Ys5I3OQAlVSa",
        "outputId": "084f382a-1541-426a-a2e8-59c09473026c",
        "colab": {
          "base_uri": "https://localhost:8080/",
          "height": 320
        }
      },
      "outputs": [
        {
          "output_type": "execute_result",
          "data": {
            "text/plain": [
              "<Figure size 890.803x367.889 with 1 Axes>"
            ],
            "image/png": "[encoded data removed]"
          },
          "metadata": {},
          "execution_count": 11
        }
      ],
      "source": [
        "qc = QuantumCircuit(q, c) #create a new Quantum circuit\n",
        "# create GHZ state\n",
        "qc.h(q[0]) #apply H-gate to the first qubit\n",
        "qc.cx(q[0],q[1]) #entangle the first two qubits\n",
        "qc.cx(q[0],q[2]) #entangle the first and the last qubit\n",
        "qc.barrier() #visual seperation (optional)\n",
        "\n",
        "# measure each qubit accordingly\n",
        "qc.h(q[0]) #apply H-gate to the first qubit (for x-value, player 1)\n",
        "qc.sdg(q[1]) #apply sdg-gate to the second qubit\n",
        "qc.h(q[1]) #apply H-gate to the second qubit (for y-value, player 2)\n",
        "qc.sdg (q[2]) #apply sdg-gate to the third qubit\n",
        "qc.h(q[2]) #apply H-gate to the third qubit (for y-value, player 3)\n",
        "qc.measure(q,c) #create measurement gates for all qubits\n",
        "qc.draw(output='mpl') #draw the circuit"
      ]
    },
    {
      "cell_type": "markdown",
      "metadata": {
        "pycharm": {
          "name": "#%% md\n"
        },
        "id": "94Yx9G_YlVSa"
      },
      "source": [
        "    In this case the measurement results are distributed as follows:"
      ]
    },
    {
      "cell_type": "code",
      "execution_count": null,
      "metadata": {
        "pycharm": {
          "name": "#%%\n"
        },
        "id": "xGk-aAd_lVSa",
        "outputId": "551e9a24-e0de-4d6a-8ba1-d2eb2da09d36",
        "colab": {
          "base_uri": "https://localhost:8080/",
          "height": 576
        }
      },
      "outputs": [
        {
          "output_type": "execute_result",
          "data": {
            "text/plain": [
              "<Figure size 700x700 with 2 Axes>"
            ],
            "image/png": "[encoded data removed]"
          },
          "metadata": {},
          "execution_count": 12
        }
      ],
      "source": [
        "qc = QuantumCircuit(q, c) #create a new Quantum circuit\n",
        "# create GHZ state\n",
        "qc.h(q[0]) #apply H-gate to the first qubit\n",
        "qc.cx(q[0],q[1]) #entangle the first two qubits\n",
        "qc.cx(q[0],q[2]) #entangle the first and the last qubit\n",
        "qc.barrier() #visual seperation (optional)\n",
        "\n",
        "# measure each qubit accordingly\n",
        "qc.h(q[0]) #apply H-gate to the first qubit (for x-value, player 1)\n",
        "qc.sdg(q[1]) #apply sdg-gate to the second qubit\n",
        "qc.h(q[1]) #apply H-gate to the second qubit (for y-value, player 2)\n",
        "qc.sdg (q[2]) #apply sdg-gate to the third qubit\n",
        "qc.h(q[2]) #apply H-gate to the third qubit (for y-value, player 3)\n",
        "qc.draw(output='mpl') #draw the circuit\n",
        "result = backend.run(qc).result()\n",
        "psi = Statevector.from_instruction(qc)\n",
        "plot_state_qsphere(psi)"
      ]
    },
    {
      "cell_type": "markdown",
      "metadata": {
        "pycharm": {
          "name": "#%% md\n"
        },
        "id": "GnIytkwxlVSa"
      },
      "source": [
        "# So now let's play again, using this new strategy\n",
        "\n",
        "To generate a random question execute the next cell:"
      ]
    },
    {
      "cell_type": "code",
      "execution_count": null,
      "metadata": {
        "pycharm": {
          "name": "#%%\n"
        },
        "id": "ytuRrPaFlVSa",
        "outputId": "84497156-4120-404f-f349-c335c5db3d40",
        "colab": {
          "base_uri": "https://localhost:8080/"
        }
      },
      "outputs": [
        {
          "output_type": "stream",
          "name": "stdout",
          "text": [
            "The question your team is getting asked is:\n",
            "Color, color, color\n"
          ]
        }
      ],
      "source": [
        "question = randomQuestion()"
      ]
    },
    {
      "cell_type": "markdown",
      "metadata": {
        "pycharm": {
          "name": "#%% md\n"
        },
        "id": "nzquIK9BlVSa"
      },
      "source": [
        "Try to build a quantum circuit that can be used to answer these questions on the next slide and provide the right answers to your team members (if you need  help use the previous cells as examples or continue to the next cells):"
      ]
    },
    {
      "cell_type": "code",
      "execution_count": null,
      "metadata": {
        "pycharm": {
          "name": "#%%\n"
        },
        "id": "LZTjY45RlVSb",
        "outputId": "f4b1a68e-0cc1-4f93-956c-74482def953a",
        "colab": {
          "base_uri": "https://localhost:8080/",
          "height": 320
        }
      },
      "outputs": [
        {
          "output_type": "execute_result",
          "data": {
            "text/plain": [
              "<Figure size 180.108x367.889 with 1 Axes>"
            ],
            "image/png": "[encoded data removed]"
          },
          "metadata": {},
          "execution_count": 14
        }
      ],
      "source": [
        "qc = QuantumCircuit(q, c) #creates a new Quantum circuit\n",
        "\n",
        "#TODO: create GHZ-state (try not to use the predefined function)\n",
        "\n",
        "#TODO: apply gates according to the question above\n",
        "\n",
        "qc.draw(output='mpl') #draw the circuit"
      ]
    },
    {
      "cell_type": "markdown",
      "metadata": {
        "pycharm": {
          "name": "#%% md\n"
        },
        "id": "GpNs6fbElVSb"
      },
      "source": [
        "## Now let's test your Quantum circuit:"
      ]
    },
    {
      "cell_type": "code",
      "execution_count": null,
      "metadata": {
        "pycharm": {
          "name": "#%%\n"
        },
        "id": "5-bsdLX6lVSb",
        "outputId": "0ffbeb52-60a3-4cb6-e388-7069c13f2ccb",
        "colab": {
          "base_uri": "https://localhost:8080/"
        }
      },
      "outputs": [
        {
          "output_type": "execute_result",
          "data": {
            "text/plain": [
              "{'000': 100}"
            ]
          },
          "metadata": {},
          "execution_count": 15
        }
      ],
      "source": [
        "# runs your quantum circuit 100 times on a simulator\n",
        "simulate(qc, q, c, 100)"
      ]
    },
    {
      "cell_type": "markdown",
      "metadata": {
        "pycharm": {
          "name": "#%% md\n"
        },
        "id": "Q_T42sqQlVSb"
      },
      "source": [
        "Now you can check your results for yourself. You get several different answers and this can be correct as the requirements of an even or uneven number of ones or zeros can be satisfied in multiple ways."
      ]
    },
    {
      "cell_type": "markdown",
      "metadata": {
        "pycharm": {
          "name": "#%% md\n"
        },
        "id": "9G5EqemBlVSb"
      },
      "source": [
        "### Do you think your answers were right? Check it here:"
      ]
    },
    {
      "cell_type": "code",
      "execution_count": null,
      "metadata": {
        "pycharm": {
          "name": "#%%\n"
        },
        "id": "_c5RwSh6lVSb",
        "outputId": "26ad4a72-4663-440c-8d9d-2f5a89de7688",
        "colab": {
          "base_uri": "https://localhost:8080/"
        }
      },
      "outputs": [
        {
          "output_type": "stream",
          "name": "stdout",
          "text": [
            "Perfect! Your team won!\n"
          ]
        }
      ],
      "source": [
        "# compares whether the measurement results from your circuit correspond to the question asked\n",
        "circuitCheck(qc, q, c, question)"
      ]
    },
    {
      "cell_type": "markdown",
      "metadata": {
        "pycharm": {
          "name": "#%% md\n"
        },
        "id": "4NAPxB3PlVSb"
      },
      "source": [
        "## Need some help?\n",
        "(Otherwise skip this cell)"
      ]
    },
    {
      "cell_type": "code",
      "execution_count": null,
      "metadata": {
        "pycharm": {
          "name": "#%%\n"
        },
        "id": "Z8xxKwUilVSb",
        "outputId": "d1c1fa28-fbef-4d12-8d1d-890bb3ccbc9f",
        "colab": {
          "base_uri": "https://localhost:8080/",
          "height": 320
        }
      },
      "outputs": [
        {
          "output_type": "execute_result",
          "data": {
            "text/plain": [
              "<Figure size 807.192x367.889 with 1 Axes>"
            ],
            "image/png": "[encoded data removed]"
          },
          "metadata": {},
          "execution_count": 17
        }
      ],
      "source": [
        "qc = QuantumCircuit(q, c) #create a new Quantum circuit\n",
        "\n",
        "#creates GHZ-state\n",
        "qc.h(q[0]) #apply H-gate to the first qubit\n",
        "qc.cx(q[0],q[1]) #entangle the first two qubits\n",
        "qc.cx(q[0],q[2]) #entangle the first and the last qubit\n",
        "qc.barrier() #visual seperation (optional)\n",
        "\n",
        "#TODO: apply gates according to the question above - choose the right ones\n",
        "qc.sdg(q[0]) #apply sdg-gate to the first qubit\n",
        "qc.h(q[0]) #apply H-gate to the first qubit\n",
        "qc.sdg(q[1]) #apply sdg-gate to the second qubit\n",
        "qc.h(q[1]) #apply H-gate to the second qubit\n",
        "#qc.sdg (q[2]) #apply sdg-gate to the third qubit\n",
        "qc.h(q[2]) #apply H-gate to the third qubit\n",
        "\n",
        "#Hint: only h-gate for x-value, both gates for y-value\n",
        "\n",
        "\n",
        "qc.measure(q,c) #create measurement gates for all qubits\n",
        "qc.draw(output='mpl') #draw the circuit"
      ]
    },
    {
      "cell_type": "markdown",
      "metadata": {
        "pycharm": {
          "name": "#%% md\n"
        },
        "id": "zmvuuNthlVSb"
      },
      "source": [
        "To check your answer return to the previous slide."
      ]
    },
    {
      "cell_type": "code",
      "execution_count": null,
      "metadata": {
        "pycharm": {
          "name": "#%%\n"
        },
        "id": "R9CstXXxlVSb",
        "outputId": "979e64c4-11c8-48ca-e7ab-e061a4b4de2e",
        "colab": {
          "base_uri": "https://localhost:8080/"
        }
      },
      "outputs": [
        {
          "output_type": "stream",
          "name": "stdout",
          "text": [
            "Copy the following code in the cell above:\n",
            "\n",
            "\n",
            "qc.h(q[0])\n",
            "qc.h(q[1])\n",
            "qc.h(q[2])\n"
          ]
        }
      ],
      "source": [
        "# prints out the correct code for your questions\n",
        "correctAnswer(question)"
      ]
    },
    {
      "cell_type": "markdown",
      "metadata": {
        "pycharm": {
          "name": "#%% md\n"
        },
        "id": "75UpFGnblVSb"
      },
      "source": [
        "You:\n",
        "\"*Cool it works, and with this Quantum strategy the team can always win, no matter which question is asked. But still I don't really understand why and how?!*\""
      ]
    },
    {
      "cell_type": "markdown",
      "metadata": {
        "pycharm": {
          "name": "#%% md\n"
        },
        "id": "s-9sFef1lVSc"
      },
      "source": [
        "## Background Information"
      ]
    },
    {
      "cell_type": "markdown",
      "metadata": {
        "pycharm": {
          "name": "#%% md\n"
        },
        "id": "oHVj6gGXlVSc"
      },
      "source": [
        "Entangled qubits have a strong dependency. Therefore, their states cannot be described individually but only in a correlated manner.\n",
        "In the GHZ state, for example, when performing an XXX-measurement only the results $\\;\\; |000\\rangle, |011\\rangle,  |101\\rangle $ and $ \\;\\;|110\\rangle $ occur.\n",
        "The fascinating thing is each qubit when observed individually (for example when only looking at the first qubit), behaves perfectly random. But when considering the whole system a dependency becomes obvious."
      ]
    },
    {
      "cell_type": "markdown",
      "metadata": {
        "pycharm": {
          "name": "#%% md\n"
        },
        "id": "plKgk7dSlVSc"
      },
      "source": [
        "A commonly known entangled state is the Bell state.The state can be $\\;\\frac{|00\\rangle + |11\\rangle}{\\sqrt{2}}\\;\\;$. When measuring the first qubit in state 1 we can already say with certainty that the result of the second measurement will also be 1, as a state with mixed results cannot occur."
      ]
    },
    {
      "cell_type": "markdown",
      "metadata": {
        "pycharm": {
          "name": "#%% md\n"
        },
        "id": "9N8iiAbklVSc"
      },
      "source": [
        "But let's go back to our Experiment. We remember the GHZ-state from above:"
      ]
    },
    {
      "cell_type": "code",
      "execution_count": null,
      "metadata": {
        "pycharm": {
          "name": "#%%\n"
        },
        "id": "4Kq2vXTTlVSc",
        "outputId": "a0891b09-5e0c-4c8e-f56c-b1af0672cfe4",
        "colab": {
          "base_uri": "https://localhost:8080/",
          "height": 320
        }
      },
      "outputs": [
        {
          "output_type": "execute_result",
          "data": {
            "text/plain": [
              "<Figure size 472.747x367.889 with 1 Axes>"
            ],
            "image/png": "[encoded data removed]"
          },
          "metadata": {},
          "execution_count": 19
        }
      ],
      "source": [
        "qc = QuantumCircuit(q,c)\n",
        "ghz_state(qc,q).draw(output='mpl')"
      ]
    },
    {
      "cell_type": "markdown",
      "metadata": {
        "pycharm": {
          "name": "#%% md\n"
        },
        "id": "kW0rBk7dlVSc"
      },
      "source": [
        "Which outcomes do you expect when executing this circuit, using the z-axis as measurement basis?"
      ]
    },
    {
      "cell_type": "code",
      "execution_count": null,
      "metadata": {
        "pycharm": {
          "name": "#%%\n"
        },
        "id": "qKFGqNW9lVSc",
        "outputId": "de22f0a0-9045-4a65-de38-7b823273b04b",
        "colab": {
          "base_uri": "https://localhost:8080/"
        }
      },
      "outputs": [
        {
          "output_type": "stream",
          "name": "stdout",
          "text": [
            "(a) All 8 possible states equally mixed (|000>, |001>, |010>, ..., |110>, |111>)\n",
            "(b) A random distribution across all 8 states (|000>, |001>, |010>, ..., |110>, |111>)\n",
            "(c) Measurement result in 50% is state |000> and in 50% is state |100>\n",
            "(d) Measurement result in 50% is state |000> and in 50% is state |111>\n",
            "a\n",
            "No, try again!\n"
          ]
        }
      ],
      "source": [
        "quiz()"
      ]
    },
    {
      "cell_type": "markdown",
      "metadata": {
        "pycharm": {
          "name": "#%% md\n"
        },
        "id": "H9zVIsh6lVSc"
      },
      "source": [
        "Now try it out:"
      ]
    },
    {
      "cell_type": "code",
      "execution_count": null,
      "metadata": {
        "pycharm": {
          "name": "#%%\n"
        },
        "id": "GchOaoeSlVSc",
        "outputId": "122d1a01-0db8-4b7d-dd4a-23ef5d467b83",
        "colab": {
          "base_uri": "https://localhost:8080/",
          "height": 486
        }
      },
      "outputs": [
        {
          "output_type": "execute_result",
          "data": {
            "text/plain": [
              "<Figure size 640x480 with 1 Axes>"
            ],
            "image/png": "[encoded data removed]"
          },
          "metadata": {},
          "execution_count": 21
        }
      ],
      "source": [
        "plot_histogram(simulate(qc, q, c, 100)) # Visualise the results"
      ]
    },
    {
      "cell_type": "markdown",
      "metadata": {
        "pycharm": {
          "name": "#%% md\n"
        },
        "id": "p2kqpqWTlVSc"
      },
      "source": [
        "Interestingly the only results that you get are either $ \\;\\;|000\\rangle $ or $ \\;\\;|111\\rangle $ with roughly 50/50 probability (Increase the number of shots to get more accurate results - closer to 50%).\n",
        "This is because q0 is brought into a superposition. In case it is 0 the two CNOT gates do not change the value of the other two qubits. If it is 1 both of the other values (which initially were 0) are flipped to 1."
      ]
    },
    {
      "cell_type": "markdown",
      "metadata": {
        "pycharm": {
          "name": "#%% md\n"
        },
        "id": "imsihLyJlVSc"
      },
      "source": [
        "This becomes obvious when looking at the state which can be written as $\\;\\;|GHZ\\rangle=\\frac{|000\\rangle + |111\\rangle}{\\sqrt{2}}\\;\\;$ and only consists of these two basis states."
      ]
    },
    {
      "cell_type": "markdown",
      "metadata": {
        "pycharm": {
          "name": "#%% md\n"
        },
        "id": "yE8-oNowlVSc"
      },
      "source": [
        "And why can it be used to answer the questions of the experiment above?"
      ]
    },
    {
      "cell_type": "markdown",
      "metadata": {
        "pycharm": {
          "name": "#%% md\n"
        },
        "id": "IfqE3E9elVSd"
      },
      "source": [
        "When measuring on the XXX-basis, we apply a Hadamard-gate to each of the qubits.\n",
        "A Hadamard-gate can be described with the following matrix:\n",
        "\n",
        "$$ H=\\frac 1 {\\sqrt{2}} \\begin{pmatrix} 1 & 1 \\\\ 1 & -1 \\end{pmatrix}$$"
      ]
    },
    {
      "cell_type": "markdown",
      "metadata": {
        "pycharm": {
          "name": "#%% md\n"
        },
        "id": "awwmYMA4lVSd"
      },
      "source": [
        "If we want to apply the H-gate 3 times (one time on each qubit) we can use the tensor product. For the tensor product A⨂B each block aij*B is calculated. For the tensor product of three Hadamard gates this means:\n",
        "$$ H⨂H⨂H=\\frac 1 {\\sqrt{2}} \\begin{pmatrix} 1 & 1 \\\\ 1 & -1 \\end{pmatrix}⨂ \\frac 1 {\\sqrt{2}} \\begin{pmatrix} 1 & 1 \\\\ 1 & -1 \\end{pmatrix}⨂ \\frac 1 {\\sqrt{2}} \\begin{pmatrix} 1 & 1 \\\\ 1 & -1 \\end{pmatrix} $$\n",
        "$$=  \\frac 1 {\\sqrt{2}} \\begin{pmatrix} 1 & 1 \\\\ 1 & -1 \\end{pmatrix}⨂ \\frac 1 {\\sqrt{2}} \\begin{pmatrix} H & H \\\\ H & -H \\end{pmatrix}=   \\frac 1 {\\sqrt{2}} \\begin{pmatrix} 1 & 1 \\\\ 1 & -1 \\end{pmatrix} ⨂\\frac 1 {2}\\begin{pmatrix} 1 & 1 & 1 & 1 \\\\ 1 & -1 & 1 & -1 \\\\ 1 & 1 & -1 & -1 \\\\ 1 & -1 & -1 & 1 \\end{pmatrix}$$\n",
        "$$= \\frac 1 {2\\sqrt{2}} \\begin{pmatrix} 1 & 1 & 1 & 1 & 1 & 1 & 1 & 1\\\\ 1 & -1 & 1 & -1 & 1 & -1 & 1 & -1 \\\\ 1 & 1 & -1 & -1 & 1 & 1 & -1 & -1 \\\\ 1 & -1 & -1 & 1 & 1 & -1 & -1 & 1 \\\\ 1 & 1 & 1 & 1 & -1 & -1 & -1 & -1 \\\\ 1 & -1 & 1 & -1 & -1 & 1 & -1 & 1 \\\\ 1 & 1 & -1 & -1 & -1 & -1 & 1 & 1 \\\\ 1 & -1 & -1 & 1 & -1 & 1 & 1 & -1\\end{pmatrix}$$\n"
      ]
    },
    {
      "cell_type": "markdown",
      "metadata": {
        "pycharm": {
          "name": "#%% md\n"
        },
        "id": "mzeeU71rlVSd"
      },
      "source": [
        "The states $ \\;\\;|0\\rangle $ and $ \\;\\;|1\\rangle $ can also be represented by the vectors $ \\;\\;|0\\rangle=\\begin{pmatrix} 1 \\\\ 0\\end{pmatrix}|1\\rangle=\\begin{pmatrix} 0 \\\\ 1 \\end{pmatrix} \\;\\;$\n",
        "\n",
        "Therefore, the GHZ state can also be represented as a vector:\n",
        "$$|GHZ\\rangle=\\frac{|000\\rangle + |111\\rangle}{\\sqrt{2}} = \\frac{|0\\rangle |0\\rangle |0\\rangle+ |1\\rangle |1\\rangle |1\\rangle}{\\sqrt{2}} $$\n",
        "$$ =\\frac {\\begin{pmatrix} 1 \\\\ 0\\end{pmatrix}⨂\\begin{pmatrix} 1 \\\\ 0\\end{pmatrix}⨂\\begin{pmatrix} 1 \\\\ 0\\end{pmatrix}+ \\begin{pmatrix} 0 \\\\ 1\\end{pmatrix}⨂\\begin{pmatrix} 0 \\\\ 1\\end{pmatrix}⨂\\begin{pmatrix} 0 \\\\ 1\\end{pmatrix}}{\\sqrt{2}}$$\n",
        "$$ =\\frac {\\begin{pmatrix} 1 \\\\ 0\\end{pmatrix}⨂\\begin{pmatrix} 1 \\\\ 0 \\\\ 0 \\\\ 0\\end{pmatrix}+ \\begin{pmatrix} 0 \\\\ 1\\end{pmatrix}⨂\\begin{pmatrix} 0 \\\\ 0\\\\ 0\\\\ 1\\end{pmatrix}⨂\\begin{pmatrix} 0 \\\\ 1\\end{pmatrix}}{\\sqrt{2}}$$\n",
        "$$ =\\frac 1 {\\sqrt{2}}\\left( {\\begin{pmatrix} 1 \\\\ 0 \\\\0 \\\\0 \\\\ 0\\\\ 0\\\\ 0 \\\\ 0\\end{pmatrix}+ \\begin{pmatrix} 0 \\\\ 0\\\\ 0\\\\ 0 \\\\0 \\\\0\\\\ 0\\\\ 1\\end{pmatrix}} \\right)\n",
        "= \\frac 1 {\\sqrt{2}} {\\begin{pmatrix} 1 \\\\ 0 \\\\0 \\\\0 \\\\ 0\\\\ 0\\\\ 0 \\\\ 1\\end{pmatrix}}$$\n",
        "\n"
      ]
    },
    {
      "cell_type": "markdown",
      "metadata": {
        "pycharm": {
          "name": "#%% md\n"
        },
        "id": "WdXRk7SulVSd"
      },
      "source": [
        "When applying three Hadamard-gates to the GHZ state:\n",
        "$$\\frac 1 {2\\sqrt{2}} \\begin{pmatrix} 1 & 1 & 1 & 1 & 1 & 1 & 1 & 1\\\\ 1 & -1 & 1 & -1 & 1 & -1 & 1 & -1 \\\\ 1 & 1 & -1 & -1 & 1 & 1 & -1 & -1 \\\\ 1 & -1 & -1 & 1 & 1 & -1 & -1 & 1 \\\\ 1 & 1 & 1 & 1 & -1 & -1 & -1 & -1 \\\\ 1 & -1 & 1 & -1 & -1 & 1 & -1 & 1 \\\\ 1 & 1 & -1 & -1 & -1 & -1 & 1 & 1 \\\\ 1 & -1 & -1 & 1 & -1 & 1 & 1 & -1\\end{pmatrix}*\\frac 1 {\\sqrt{2}} {\\begin{pmatrix} 1 \\\\ 0 \\\\0 \\\\0 \\\\ 0\\\\ 0\\\\ 0 \\\\ 1\\end{pmatrix}}= \\frac 1 {4} {\\begin{pmatrix} 2 \\\\ 0 \\\\0 \\\\2 \\\\ 0\\\\ 2\\\\ 2 \\\\ 0\\end{pmatrix}} $$\n",
        "$$= \\frac 1 {4} (2*|000\\rangle+0*|001\\rangle+0*|010\\rangle+2*|011\\rangle+0*|100\\rangle+2*|101\\rangle+2*|110\\rangle+0*|111\\rangle)$$\n",
        "$$= \\frac 1 {2} (|000\\rangle+|011\\rangle+|101\\rangle+|110\\rangle)$$"
      ]
    },
    {
      "cell_type": "markdown",
      "metadata": {
        "pycharm": {
          "name": "#%% md\n"
        },
        "id": "RmqGOJCmlVSd"
      },
      "source": [
        "As expected only the results with an even number of ones occur."
      ]
    },
    {
      "cell_type": "markdown",
      "metadata": {
        "pycharm": {
          "name": "#%% md\n"
        },
        "id": "AeMPweOklVSd"
      },
      "source": [
        "When measuring a Y-value we need an additional gate: $$ S^†= \\begin{pmatrix} 1 & 0 \\\\ 0 & -i \\end{pmatrix}$$"
      ]
    },
    {
      "cell_type": "markdown",
      "metadata": {
        "pycharm": {
          "name": "#%% md\n"
        },
        "id": "rl6mzKu-lVSd"
      },
      "source": [
        "For the YYX-measurement we would apply the sdg-gate to qubit 0 and 1 follwed by a Hadamard-gate on all three qubits. Therefore the following needs to be caluclated:\n",
        "\n",
        "$$HS^†⨂HS^†⨂H$$\n",
        "$$=\\frac 1 {\\sqrt{2}} \\begin{pmatrix} 1 & 1 \\\\ 1 & -1 \\end{pmatrix}\\begin{pmatrix} 1 & 0 \\\\ 0 & -i \\end{pmatrix}⨂ \\frac 1 {\\sqrt{2}} \\begin{pmatrix} 1 & 1 \\\\ 1 & -1 \\end{pmatrix}\\begin{pmatrix} 1 & 0 \\\\ 0 & -i \\end{pmatrix}⨂ \\frac 1 {\\sqrt{2}} \\begin{pmatrix} 1 & 1 \\\\ 1 & -1 \\end{pmatrix} $$\n",
        "$$= \\frac 1 {\\sqrt{2}} \\begin{pmatrix} 1 & -i \\\\ 1 & i \\end{pmatrix}⨂ \\frac 1 {\\sqrt{2}} \\begin{pmatrix} 1 & -i \\\\ 1 & i \\end{pmatrix}⨂ \\frac 1 {\\sqrt{2}} \\begin{pmatrix} 1 & 1 \\\\ 1 & -1 \\end{pmatrix} $$"
      ]
    },
    {
      "cell_type": "markdown",
      "metadata": {
        "pycharm": {
          "name": "#%% md\n"
        },
        "id": "ZyscBhfVlVSd"
      },
      "source": [
        "When applying this measurement to the GHZ state:\n",
        "\n",
        "$$HS^†⨂HS^†⨂H *\\frac 1 {\\sqrt{2}} {\\begin{pmatrix} 1 \\\\ 0 \\\\0 \\\\0 \\\\ 0\\\\ 0\\\\ 0 \\\\ 1\\end{pmatrix}}= \\frac 1 {4} {\\begin{pmatrix} 0 \\\\ 2 \\\\2 \\\\0 \\\\ 2\\\\ 0\\\\ 0 \\\\ 2\\end{pmatrix}} $$\n",
        "$$= \\frac 1 {4} (0*|000\\rangle+2*|001\\rangle+2*|010\\rangle+0*|011\\rangle+2*|100\\rangle+0*|101\\rangle+0*|110\\rangle+2*|111\\rangle)$$\n",
        "$$= \\frac 1 {2} (|001\\rangle+|010\\rangle+|100\\rangle+|111\\rangle)$$\n",
        "\n",
        "only the results with an even number of zeros, and accordingly an even number of blue or rectangle, remain."
      ]
    },
    {
      "cell_type": "markdown",
      "metadata": {
        "pycharm": {
          "name": "#%% md\n"
        },
        "id": "oxYqpy7alVSd"
      },
      "source": [
        "\n",
        "## What does it change?"
      ]
    },
    {
      "cell_type": "markdown",
      "metadata": {
        "pycharm": {
          "name": "#%% md\n"
        },
        "id": "SujoHuhmlVSd"
      },
      "source": [
        "As we saw above, any strategy that is using pre-defined answers (i.e. \"local hidden variables\") cannot answer all four sets of questions correctly. But the procedure based on quantum mechanics and Entaglement, i.e. the GHZ state, was able to give a correct answer all the time.\n",
        "\n",
        "How can that be explained?\n",
        "\n",
        "The final pragraphs of Mermin's book \"Quantum Computer Science: An Introduction\" conclude: \"The best explanation anybody has come up with to this day is to insist that no explanation is needed beyond what one can infer from the laws of quantum mechanics. Those laws are correct. (...) One gets puzzled only if one tries to understand how the rules can work not only for the actual situation in which they are applied, but also in alternative situations that might have been chosen but were not. (...) A good motto for the quantum physicist and for future quantum computer scientists might be 'What didn’t happen didn't happen.'\""
      ]
    },
    {
      "cell_type": "markdown",
      "metadata": {
        "pycharm": {
          "name": "#%% md\n"
        },
        "id": "P5s-TIrdlVSd"
      },
      "source": [
        "To learn more about Quantum Entanglement you can look at the Hardy's paradox here: https://mybinder.org/v2/gh/JanLahmann/Fun-with-Quantum/master?filepath=Hardys-Paradox.ipynb\n",
        "\n",
        "One use case entanglement is needed for is the so-called \"Quantum Teleportation\". You can learn what it is and find out more about Quantum Entanglement here: https://qiskit.org/textbook/ch-algorithms/teleportation.html"
      ]
    }
  ],
  "metadata": {
    "kernelspec": {
      "display_name": "Python 3 (ipykernel)",
      "language": "python",
      "name": "python3"
    },
    "language_info": {
      "codemirror_mode": {
        "name": "ipython",
        "version": 3
      },
      "file_extension": ".py",
      "mimetype": "text/x-python",
      "name": "python",
      "nbconvert_exporter": "python",
      "pygments_lexer": "ipython3",
      "version": "3.9.13"
    },
    "colab": {
      "provenance": []
    },
    "widgets": {
      "application/vnd.jupyter.widget-state+json": {
        "e18a7df46df84b3fa2970802b22b078a": {
          "model_module": "@jupyter-widgets/controls",
          "model_name": "VBoxModel",
          "model_module_version": "1.5.0",
          "state": {
            "_dom_classes": [
              "widget-interact"
            ],
            "_model_module": "@jupyter-widgets/controls",
            "_model_module_version": "1.5.0",
            "_model_name": "VBoxModel",
            "_view_count": null,
            "_view_module": "@jupyter-widgets/controls",
            "_view_module_version": "1.5.0",
            "_view_name": "VBoxView",
            "box_style": "",
            "children": [
              "IPY_MODEL_8aeec7c523ff44599464dcb0d378415c",
              "IPY_MODEL_783a10e51e2e47658678dd0e1bd6250b",
              "IPY_MODEL_1450039160e54982bf490136f7bfd505"
            ],
            "layout": "IPY_MODEL_5d195f7a37e7483c8b1ad474f17c5b70"
          }
        },
        "8aeec7c523ff44599464dcb0d378415c": {
          "model_module": "@jupyter-widgets/controls",
          "model_name": "DropdownModel",
          "model_module_version": "1.5.0",
          "state": {
            "_dom_classes": [],
            "_model_module": "@jupyter-widgets/controls",
            "_model_module_version": "1.5.0",
            "_model_name": "DropdownModel",
            "_options_labels": [
              "red (1)",
              "blue (0)"
            ],
            "_view_count": null,
            "_view_module": "@jupyter-widgets/controls",
            "_view_module_version": "1.5.0",
            "_view_name": "DropdownView",
            "description": "AlicesColor",
            "description_tooltip": null,
            "disabled": false,
            "index": 0,
            "layout": "IPY_MODEL_1c3f4a58938f451a89677470ca96f5f0",
            "style": "IPY_MODEL_0774e8273ecd4adbac0dd9154a498ff4"
          }
        },
        "783a10e51e2e47658678dd0e1bd6250b": {
          "model_module": "@jupyter-widgets/controls",
          "model_name": "DropdownModel",
          "model_module_version": "1.5.0",
          "state": {
            "_dom_classes": [],
            "_model_module": "@jupyter-widgets/controls",
            "_model_module_version": "1.5.0",
            "_model_name": "DropdownModel",
            "_options_labels": [
              "star (1)",
              "rectangle (0)"
            ],
            "_view_count": null,
            "_view_module": "@jupyter-widgets/controls",
            "_view_module_version": "1.5.0",
            "_view_name": "DropdownView",
            "description": "AlicesShape",
            "description_tooltip": null,
            "disabled": false,
            "index": 0,
            "layout": "IPY_MODEL_e9a7102f3f054eb2b33630a7a9f4950b",
            "style": "IPY_MODEL_eca1db686062492b9fab709c5cab3fe4"
          }
        },
        "1450039160e54982bf490136f7bfd505": {
          "model_module": "@jupyter-widgets/output",
          "model_name": "OutputModel",
          "model_module_version": "1.0.0",
          "state": {
            "_dom_classes": [],
            "_model_module": "@jupyter-widgets/output",
            "_model_module_version": "1.0.0",
            "_model_name": "OutputModel",
            "_view_count": null,
            "_view_module": "@jupyter-widgets/output",
            "_view_module_version": "1.0.0",
            "_view_name": "OutputView",
            "layout": "IPY_MODEL_8a985c69d7a4415e9a6f25fe01461321",
            "msg_id": "",
            "outputs": []
          }
        },
        "5d195f7a37e7483c8b1ad474f17c5b70": {
          "model_module": "@jupyter-widgets/base",
          "model_name": "LayoutModel",
          "model_module_version": "1.2.0",
          "state": {
            "_model_module": "@jupyter-widgets/base",
            "_model_module_version": "1.2.0",
            "_model_name": "LayoutModel",
            "_view_count": null,
            "_view_module": "@jupyter-widgets/base",
            "_view_module_version": "1.2.0",
            "_view_name": "LayoutView",
            "align_content": null,
            "align_items": null,
            "align_self": null,
            "border": null,
            "bottom": null,
            "display": null,
            "flex": null,
            "flex_flow": null,
            "grid_area": null,
            "grid_auto_columns": null,
            "grid_auto_flow": null,
            "grid_auto_rows": null,
            "grid_column": null,
            "grid_gap": null,
            "grid_row": null,
            "grid_template_areas": null,
            "grid_template_columns": null,
            "grid_template_rows": null,
            "height": null,
            "justify_content": null,
            "justify_items": null,
            "left": null,
            "margin": null,
            "max_height": null,
            "max_width": null,
            "min_height": null,
            "min_width": null,
            "object_fit": null,
            "object_position": null,
            "order": null,
            "overflow": null,
            "overflow_x": null,
            "overflow_y": null,
            "padding": null,
            "right": null,
            "top": null,
            "visibility": null,
            "width": null
          }
        },
        "1c3f4a58938f451a89677470ca96f5f0": {
          "model_module": "@jupyter-widgets/base",
          "model_name": "LayoutModel",
          "model_module_version": "1.2.0",
          "state": {
            "_model_module": "@jupyter-widgets/base",
            "_model_module_version": "1.2.0",
            "_model_name": "LayoutModel",
            "_view_count": null,
            "_view_module": "@jupyter-widgets/base",
            "_view_module_version": "1.2.0",
            "_view_name": "LayoutView",
            "align_content": null,
            "align_items": null,
            "align_self": null,
            "border": null,
            "bottom": null,
            "display": null,
            "flex": null,
            "flex_flow": null,
            "grid_area": null,
            "grid_auto_columns": null,
            "grid_auto_flow": null,
            "grid_auto_rows": null,
            "grid_column": null,
            "grid_gap": null,
            "grid_row": null,
            "grid_template_areas": null,
            "grid_template_columns": null,
            "grid_template_rows": null,
            "height": null,
            "justify_content": null,
            "justify_items": null,
            "left": null,
            "margin": null,
            "max_height": null,
            "max_width": null,
            "min_height": null,
            "min_width": null,
            "object_fit": null,
            "object_position": null,
            "order": null,
            "overflow": null,
            "overflow_x": null,
            "overflow_y": null,
            "padding": null,
            "right": null,
            "top": null,
            "visibility": null,
            "width": null
          }
        },
        "0774e8273ecd4adbac0dd9154a498ff4": {
          "model_module": "@jupyter-widgets/controls",
          "model_name": "DescriptionStyleModel",
          "model_module_version": "1.5.0",
          "state": {
            "_model_module": "@jupyter-widgets/controls",
            "_model_module_version": "1.5.0",
            "_model_name": "DescriptionStyleModel",
            "_view_count": null,
            "_view_module": "@jupyter-widgets/base",
            "_view_module_version": "1.2.0",
            "_view_name": "StyleView",
            "description_width": ""
          }
        },
        "e9a7102f3f054eb2b33630a7a9f4950b": {
          "model_module": "@jupyter-widgets/base",
          "model_name": "LayoutModel",
          "model_module_version": "1.2.0",
          "state": {
            "_model_module": "@jupyter-widgets/base",
            "_model_module_version": "1.2.0",
            "_model_name": "LayoutModel",
            "_view_count": null,
            "_view_module": "@jupyter-widgets/base",
            "_view_module_version": "1.2.0",
            "_view_name": "LayoutView",
            "align_content": null,
            "align_items": null,
            "align_self": null,
            "border": null,
            "bottom": null,
            "display": null,
            "flex": null,
            "flex_flow": null,
            "grid_area": null,
            "grid_auto_columns": null,
            "grid_auto_flow": null,
            "grid_auto_rows": null,
            "grid_column": null,
            "grid_gap": null,
            "grid_row": null,
            "grid_template_areas": null,
            "grid_template_columns": null,
            "grid_template_rows": null,
            "height": null,
            "justify_content": null,
            "justify_items": null,
            "left": null,
            "margin": null,
            "max_height": null,
            "max_width": null,
            "min_height": null,
            "min_width": null,
            "object_fit": null,
            "object_position": null,
            "order": null,
            "overflow": null,
            "overflow_x": null,
            "overflow_y": null,
            "padding": null,
            "right": null,
            "top": null,
            "visibility": null,
            "width": null
          }
        },
        "eca1db686062492b9fab709c5cab3fe4": {
          "model_module": "@jupyter-widgets/controls",
          "model_name": "DescriptionStyleModel",
          "model_module_version": "1.5.0",
          "state": {
            "_model_module": "@jupyter-widgets/controls",
            "_model_module_version": "1.5.0",
            "_model_name": "DescriptionStyleModel",
            "_view_count": null,
            "_view_module": "@jupyter-widgets/base",
            "_view_module_version": "1.2.0",
            "_view_name": "StyleView",
            "description_width": ""
          }
        },
        "8a985c69d7a4415e9a6f25fe01461321": {
          "model_module": "@jupyter-widgets/base",
          "model_name": "LayoutModel",
          "model_module_version": "1.2.0",
          "state": {
            "_model_module": "@jupyter-widgets/base",
            "_model_module_version": "1.2.0",
            "_model_name": "LayoutModel",
            "_view_count": null,
            "_view_module": "@jupyter-widgets/base",
            "_view_module_version": "1.2.0",
            "_view_name": "LayoutView",
            "align_content": null,
            "align_items": null,
            "align_self": null,
            "border": null,
            "bottom": null,
            "display": null,
            "flex": null,
            "flex_flow": null,
            "grid_area": null,
            "grid_auto_columns": null,
            "grid_auto_flow": null,
            "grid_auto_rows": null,
            "grid_column": null,
            "grid_gap": null,
            "grid_row": null,
            "grid_template_areas": null,
            "grid_template_columns": null,
            "grid_template_rows": null,
            "height": null,
            "justify_content": null,
            "justify_items": null,
            "left": null,
            "margin": null,
            "max_height": null,
            "max_width": null,
            "min_height": null,
            "min_width": null,
            "object_fit": null,
            "object_position": null,
            "order": null,
            "overflow": null,
            "overflow_x": null,
            "overflow_y": null,
            "padding": null,
            "right": null,
            "top": null,
            "visibility": null,
            "width": null
          }
        },
        "19514f00d2a04945be91a2733c1c46fb": {
          "model_module": "@jupyter-widgets/controls",
          "model_name": "VBoxModel",
          "model_module_version": "1.5.0",
          "state": {
            "_dom_classes": [
              "widget-interact"
            ],
            "_model_module": "@jupyter-widgets/controls",
            "_model_module_version": "1.5.0",
            "_model_name": "VBoxModel",
            "_view_count": null,
            "_view_module": "@jupyter-widgets/controls",
            "_view_module_version": "1.5.0",
            "_view_name": "VBoxView",
            "box_style": "",
            "children": [
              "IPY_MODEL_465553cb83684ef380bbcde6f4955c03",
              "IPY_MODEL_239e6bd8ba5c4277a1610c28696df31b",
              "IPY_MODEL_c5b525bb818c452b9eb72d3fabb969ab"
            ],
            "layout": "IPY_MODEL_26d24c63ecce4692ad505e1e1297e978"
          }
        },
        "465553cb83684ef380bbcde6f4955c03": {
          "model_module": "@jupyter-widgets/controls",
          "model_name": "DropdownModel",
          "model_module_version": "1.5.0",
          "state": {
            "_dom_classes": [],
            "_model_module": "@jupyter-widgets/controls",
            "_model_module_version": "1.5.0",
            "_model_name": "DropdownModel",
            "_options_labels": [
              "red (1)",
              "blue (0)"
            ],
            "_view_count": null,
            "_view_module": "@jupyter-widgets/controls",
            "_view_module_version": "1.5.0",
            "_view_name": "DropdownView",
            "description": "BobsColor",
            "description_tooltip": null,
            "disabled": false,
            "index": 0,
            "layout": "IPY_MODEL_54f586496e7348eb80f3dd47247359bb",
            "style": "IPY_MODEL_32d2c2267112433d8238f421982c0fdd"
          }
        },
        "239e6bd8ba5c4277a1610c28696df31b": {
          "model_module": "@jupyter-widgets/controls",
          "model_name": "DropdownModel",
          "model_module_version": "1.5.0",
          "state": {
            "_dom_classes": [],
            "_model_module": "@jupyter-widgets/controls",
            "_model_module_version": "1.5.0",
            "_model_name": "DropdownModel",
            "_options_labels": [
              "star (1)",
              "rectangle (0)"
            ],
            "_view_count": null,
            "_view_module": "@jupyter-widgets/controls",
            "_view_module_version": "1.5.0",
            "_view_name": "DropdownView",
            "description": "BobsShape",
            "description_tooltip": null,
            "disabled": false,
            "index": 0,
            "layout": "IPY_MODEL_8c9973b9ebfa4ef5b4eedfb6fc974d7a",
            "style": "IPY_MODEL_f187ab135b684626b58e45c6d098c37f"
          }
        },
        "c5b525bb818c452b9eb72d3fabb969ab": {
          "model_module": "@jupyter-widgets/output",
          "model_name": "OutputModel",
          "model_module_version": "1.0.0",
          "state": {
            "_dom_classes": [],
            "_model_module": "@jupyter-widgets/output",
            "_model_module_version": "1.0.0",
            "_model_name": "OutputModel",
            "_view_count": null,
            "_view_module": "@jupyter-widgets/output",
            "_view_module_version": "1.0.0",
            "_view_name": "OutputView",
            "layout": "IPY_MODEL_d099f7444192468088b675123ea1e52a",
            "msg_id": "",
            "outputs": []
          }
        },
        "26d24c63ecce4692ad505e1e1297e978": {
          "model_module": "@jupyter-widgets/base",
          "model_name": "LayoutModel",
          "model_module_version": "1.2.0",
          "state": {
            "_model_module": "@jupyter-widgets/base",
            "_model_module_version": "1.2.0",
            "_model_name": "LayoutModel",
            "_view_count": null,
            "_view_module": "@jupyter-widgets/base",
            "_view_module_version": "1.2.0",
            "_view_name": "LayoutView",
            "align_content": null,
            "align_items": null,
            "align_self": null,
            "border": null,
            "bottom": null,
            "display": null,
            "flex": null,
            "flex_flow": null,
            "grid_area": null,
            "grid_auto_columns": null,
            "grid_auto_flow": null,
            "grid_auto_rows": null,
            "grid_column": null,
            "grid_gap": null,
            "grid_row": null,
            "grid_template_areas": null,
            "grid_template_columns": null,
            "grid_template_rows": null,
            "height": null,
            "justify_content": null,
            "justify_items": null,
            "left": null,
            "margin": null,
            "max_height": null,
            "max_width": null,
            "min_height": null,
            "min_width": null,
            "object_fit": null,
            "object_position": null,
            "order": null,
            "overflow": null,
            "overflow_x": null,
            "overflow_y": null,
            "padding": null,
            "right": null,
            "top": null,
            "visibility": null,
            "width": null
          }
        },
        "54f586496e7348eb80f3dd47247359bb": {
          "model_module": "@jupyter-widgets/base",
          "model_name": "LayoutModel",
          "model_module_version": "1.2.0",
          "state": {
            "_model_module": "@jupyter-widgets/base",
            "_model_module_version": "1.2.0",
            "_model_name": "LayoutModel",
            "_view_count": null,
            "_view_module": "@jupyter-widgets/base",
            "_view_module_version": "1.2.0",
            "_view_name": "LayoutView",
            "align_content": null,
            "align_items": null,
            "align_self": null,
            "border": null,
            "bottom": null,
            "display": null,
            "flex": null,
            "flex_flow": null,
            "grid_area": null,
            "grid_auto_columns": null,
            "grid_auto_flow": null,
            "grid_auto_rows": null,
            "grid_column": null,
            "grid_gap": null,
            "grid_row": null,
            "grid_template_areas": null,
            "grid_template_columns": null,
            "grid_template_rows": null,
            "height": null,
            "justify_content": null,
            "justify_items": null,
            "left": null,
            "margin": null,
            "max_height": null,
            "max_width": null,
            "min_height": null,
            "min_width": null,
            "object_fit": null,
            "object_position": null,
            "order": null,
            "overflow": null,
            "overflow_x": null,
            "overflow_y": null,
            "padding": null,
            "right": null,
            "top": null,
            "visibility": null,
            "width": null
          }
        },
        "32d2c2267112433d8238f421982c0fdd": {
          "model_module": "@jupyter-widgets/controls",
          "model_name": "DescriptionStyleModel",
          "model_module_version": "1.5.0",
          "state": {
            "_model_module": "@jupyter-widgets/controls",
            "_model_module_version": "1.5.0",
            "_model_name": "DescriptionStyleModel",
            "_view_count": null,
            "_view_module": "@jupyter-widgets/base",
            "_view_module_version": "1.2.0",
            "_view_name": "StyleView",
            "description_width": ""
          }
        },
        "8c9973b9ebfa4ef5b4eedfb6fc974d7a": {
          "model_module": "@jupyter-widgets/base",
          "model_name": "LayoutModel",
          "model_module_version": "1.2.0",
          "state": {
            "_model_module": "@jupyter-widgets/base",
            "_model_module_version": "1.2.0",
            "_model_name": "LayoutModel",
            "_view_count": null,
            "_view_module": "@jupyter-widgets/base",
            "_view_module_version": "1.2.0",
            "_view_name": "LayoutView",
            "align_content": null,
            "align_items": null,
            "align_self": null,
            "border": null,
            "bottom": null,
            "display": null,
            "flex": null,
            "flex_flow": null,
            "grid_area": null,
            "grid_auto_columns": null,
            "grid_auto_flow": null,
            "grid_auto_rows": null,
            "grid_column": null,
            "grid_gap": null,
            "grid_row": null,
            "grid_template_areas": null,
            "grid_template_columns": null,
            "grid_template_rows": null,
            "height": null,
            "justify_content": null,
            "justify_items": null,
            "left": null,
            "margin": null,
            "max_height": null,
            "max_width": null,
            "min_height": null,
            "min_width": null,
            "object_fit": null,
            "object_position": null,
            "order": null,
            "overflow": null,
            "overflow_x": null,
            "overflow_y": null,
            "padding": null,
            "right": null,
            "top": null,
            "visibility": null,
            "width": null
          }
        },
        "f187ab135b684626b58e45c6d098c37f": {
          "model_module": "@jupyter-widgets/controls",
          "model_name": "DescriptionStyleModel",
          "model_module_version": "1.5.0",
          "state": {
            "_model_module": "@jupyter-widgets/controls",
            "_model_module_version": "1.5.0",
            "_model_name": "DescriptionStyleModel",
            "_view_count": null,
            "_view_module": "@jupyter-widgets/base",
            "_view_module_version": "1.2.0",
            "_view_name": "StyleView",
            "description_width": ""
          }
        },
        "d099f7444192468088b675123ea1e52a": {
          "model_module": "@jupyter-widgets/base",
          "model_name": "LayoutModel",
          "model_module_version": "1.2.0",
          "state": {
            "_model_module": "@jupyter-widgets/base",
            "_model_module_version": "1.2.0",
            "_model_name": "LayoutModel",
            "_view_count": null,
            "_view_module": "@jupyter-widgets/base",
            "_view_module_version": "1.2.0",
            "_view_name": "LayoutView",
            "align_content": null,
            "align_items": null,
            "align_self": null,
            "border": null,
            "bottom": null,
            "display": null,
            "flex": null,
            "flex_flow": null,
            "grid_area": null,
            "grid_auto_columns": null,
            "grid_auto_flow": null,
            "grid_auto_rows": null,
            "grid_column": null,
            "grid_gap": null,
            "grid_row": null,
            "grid_template_areas": null,
            "grid_template_columns": null,
            "grid_template_rows": null,
            "height": null,
            "justify_content": null,
            "justify_items": null,
            "left": null,
            "margin": null,
            "max_height": null,
            "max_width": null,
            "min_height": null,
            "min_width": null,
            "object_fit": null,
            "object_position": null,
            "order": null,
            "overflow": null,
            "overflow_x": null,
            "overflow_y": null,
            "padding": null,
            "right": null,
            "top": null,
            "visibility": null,
            "width": null
          }
        },
        "89326be0eb34428a99e665929a91b0a6": {
          "model_module": "@jupyter-widgets/controls",
          "model_name": "VBoxModel",
          "model_module_version": "1.5.0",
          "state": {
            "_dom_classes": [
              "widget-interact"
            ],
            "_model_module": "@jupyter-widgets/controls",
            "_model_module_version": "1.5.0",
            "_model_name": "VBoxModel",
            "_view_count": null,
            "_view_module": "@jupyter-widgets/controls",
            "_view_module_version": "1.5.0",
            "_view_name": "VBoxView",
            "box_style": "",
            "children": [
              "IPY_MODEL_fc94d49337fd40768671e29d98838e14",
              "IPY_MODEL_b7de3cb5c6394a04aa826d0a307379d6",
              "IPY_MODEL_4a46f5ace70440cca954a3e3ec60e4f9"
            ],
            "layout": "IPY_MODEL_5441987b404a4cd580c2d905060a2754"
          }
        },
        "fc94d49337fd40768671e29d98838e14": {
          "model_module": "@jupyter-widgets/controls",
          "model_name": "DropdownModel",
          "model_module_version": "1.5.0",
          "state": {
            "_dom_classes": [],
            "_model_module": "@jupyter-widgets/controls",
            "_model_module_version": "1.5.0",
            "_model_name": "DropdownModel",
            "_options_labels": [
              "red (1)",
              "blue (0)"
            ],
            "_view_count": null,
            "_view_module": "@jupyter-widgets/controls",
            "_view_module_version": "1.5.0",
            "_view_name": "DropdownView",
            "description": "YourColor",
            "description_tooltip": null,
            "disabled": false,
            "index": 0,
            "layout": "IPY_MODEL_e4763b62b4c341e1ab48d77811c06af8",
            "style": "IPY_MODEL_970d1581c0c04622bcde82fd4f623fd0"
          }
        },
        "b7de3cb5c6394a04aa826d0a307379d6": {
          "model_module": "@jupyter-widgets/controls",
          "model_name": "DropdownModel",
          "model_module_version": "1.5.0",
          "state": {
            "_dom_classes": [],
            "_model_module": "@jupyter-widgets/controls",
            "_model_module_version": "1.5.0",
            "_model_name": "DropdownModel",
            "_options_labels": [
              "star (1)",
              "rectangle (0)"
            ],
            "_view_count": null,
            "_view_module": "@jupyter-widgets/controls",
            "_view_module_version": "1.5.0",
            "_view_name": "DropdownView",
            "description": "YourShape",
            "description_tooltip": null,
            "disabled": false,
            "index": 0,
            "layout": "IPY_MODEL_4779b0742e654938ba8e7885065bc162",
            "style": "IPY_MODEL_ad27c7503bef457aaf0ccd0150a5c3be"
          }
        },
        "4a46f5ace70440cca954a3e3ec60e4f9": {
          "model_module": "@jupyter-widgets/output",
          "model_name": "OutputModel",
          "model_module_version": "1.0.0",
          "state": {
            "_dom_classes": [],
            "_model_module": "@jupyter-widgets/output",
            "_model_module_version": "1.0.0",
            "_model_name": "OutputModel",
            "_view_count": null,
            "_view_module": "@jupyter-widgets/output",
            "_view_module_version": "1.0.0",
            "_view_name": "OutputView",
            "layout": "IPY_MODEL_c80dee1ef34e4777ad807b286ed00712",
            "msg_id": "",
            "outputs": []
          }
        },
        "5441987b404a4cd580c2d905060a2754": {
          "model_module": "@jupyter-widgets/base",
          "model_name": "LayoutModel",
          "model_module_version": "1.2.0",
          "state": {
            "_model_module": "@jupyter-widgets/base",
            "_model_module_version": "1.2.0",
            "_model_name": "LayoutModel",
            "_view_count": null,
            "_view_module": "@jupyter-widgets/base",
            "_view_module_version": "1.2.0",
            "_view_name": "LayoutView",
            "align_content": null,
            "align_items": null,
            "align_self": null,
            "border": null,
            "bottom": null,
            "display": null,
            "flex": null,
            "flex_flow": null,
            "grid_area": null,
            "grid_auto_columns": null,
            "grid_auto_flow": null,
            "grid_auto_rows": null,
            "grid_column": null,
            "grid_gap": null,
            "grid_row": null,
            "grid_template_areas": null,
            "grid_template_columns": null,
            "grid_template_rows": null,
            "height": null,
            "justify_content": null,
            "justify_items": null,
            "left": null,
            "margin": null,
            "max_height": null,
            "max_width": null,
            "min_height": null,
            "min_width": null,
            "object_fit": null,
            "object_position": null,
            "order": null,
            "overflow": null,
            "overflow_x": null,
            "overflow_y": null,
            "padding": null,
            "right": null,
            "top": null,
            "visibility": null,
            "width": null
          }
        },
        "e4763b62b4c341e1ab48d77811c06af8": {
          "model_module": "@jupyter-widgets/base",
          "model_name": "LayoutModel",
          "model_module_version": "1.2.0",
          "state": {
            "_model_module": "@jupyter-widgets/base",
            "_model_module_version": "1.2.0",
            "_model_name": "LayoutModel",
            "_view_count": null,
            "_view_module": "@jupyter-widgets/base",
            "_view_module_version": "1.2.0",
            "_view_name": "LayoutView",
            "align_content": null,
            "align_items": null,
            "align_self": null,
            "border": null,
            "bottom": null,
            "display": null,
            "flex": null,
            "flex_flow": null,
            "grid_area": null,
            "grid_auto_columns": null,
            "grid_auto_flow": null,
            "grid_auto_rows": null,
            "grid_column": null,
            "grid_gap": null,
            "grid_row": null,
            "grid_template_areas": null,
            "grid_template_columns": null,
            "grid_template_rows": null,
            "height": null,
            "justify_content": null,
            "justify_items": null,
            "left": null,
            "margin": null,
            "max_height": null,
            "max_width": null,
            "min_height": null,
            "min_width": null,
            "object_fit": null,
            "object_position": null,
            "order": null,
            "overflow": null,
            "overflow_x": null,
            "overflow_y": null,
            "padding": null,
            "right": null,
            "top": null,
            "visibility": null,
            "width": null
          }
        },
        "970d1581c0c04622bcde82fd4f623fd0": {
          "model_module": "@jupyter-widgets/controls",
          "model_name": "DescriptionStyleModel",
          "model_module_version": "1.5.0",
          "state": {
            "_model_module": "@jupyter-widgets/controls",
            "_model_module_version": "1.5.0",
            "_model_name": "DescriptionStyleModel",
            "_view_count": null,
            "_view_module": "@jupyter-widgets/base",
            "_view_module_version": "1.2.0",
            "_view_name": "StyleView",
            "description_width": ""
          }
        },
        "4779b0742e654938ba8e7885065bc162": {
          "model_module": "@jupyter-widgets/base",
          "model_name": "LayoutModel",
          "model_module_version": "1.2.0",
          "state": {
            "_model_module": "@jupyter-widgets/base",
            "_model_module_version": "1.2.0",
            "_model_name": "LayoutModel",
            "_view_count": null,
            "_view_module": "@jupyter-widgets/base",
            "_view_module_version": "1.2.0",
            "_view_name": "LayoutView",
            "align_content": null,
            "align_items": null,
            "align_self": null,
            "border": null,
            "bottom": null,
            "display": null,
            "flex": null,
            "flex_flow": null,
            "grid_area": null,
            "grid_auto_columns": null,
            "grid_auto_flow": null,
            "grid_auto_rows": null,
            "grid_column": null,
            "grid_gap": null,
            "grid_row": null,
            "grid_template_areas": null,
            "grid_template_columns": null,
            "grid_template_rows": null,
            "height": null,
            "justify_content": null,
            "justify_items": null,
            "left": null,
            "margin": null,
            "max_height": null,
            "max_width": null,
            "min_height": null,
            "min_width": null,
            "object_fit": null,
            "object_position": null,
            "order": null,
            "overflow": null,
            "overflow_x": null,
            "overflow_y": null,
            "padding": null,
            "right": null,
            "top": null,
            "visibility": null,
            "width": null
          }
        },
        "ad27c7503bef457aaf0ccd0150a5c3be": {
          "model_module": "@jupyter-widgets/controls",
          "model_name": "DescriptionStyleModel",
          "model_module_version": "1.5.0",
          "state": {
            "_model_module": "@jupyter-widgets/controls",
            "_model_module_version": "1.5.0",
            "_model_name": "DescriptionStyleModel",
            "_view_count": null,
            "_view_module": "@jupyter-widgets/base",
            "_view_module_version": "1.2.0",
            "_view_name": "StyleView",
            "description_width": ""
          }
        },
        "c80dee1ef34e4777ad807b286ed00712": {
          "model_module": "@jupyter-widgets/base",
          "model_name": "LayoutModel",
          "model_module_version": "1.2.0",
          "state": {
            "_model_module": "@jupyter-widgets/base",
            "_model_module_version": "1.2.0",
            "_model_name": "LayoutModel",
            "_view_count": null,
            "_view_module": "@jupyter-widgets/base",
            "_view_module_version": "1.2.0",
            "_view_name": "LayoutView",
            "align_content": null,
            "align_items": null,
            "align_self": null,
            "border": null,
            "bottom": null,
            "display": null,
            "flex": null,
            "flex_flow": null,
            "grid_area": null,
            "grid_auto_columns": null,
            "grid_auto_flow": null,
            "grid_auto_rows": null,
            "grid_column": null,
            "grid_gap": null,
            "grid_row": null,
            "grid_template_areas": null,
            "grid_template_columns": null,
            "grid_template_rows": null,
            "height": null,
            "justify_content": null,
            "justify_items": null,
            "left": null,
            "margin": null,
            "max_height": null,
            "max_width": null,
            "min_height": null,
            "min_width": null,
            "object_fit": null,
            "object_position": null,
            "order": null,
            "overflow": null,
            "overflow_x": null,
            "overflow_y": null,
            "padding": null,
            "right": null,
            "top": null,
            "visibility": null,
            "width": null
          }
        }
      }
    }
  },
  "nbformat": 4,
  "nbformat_minor": 0
}