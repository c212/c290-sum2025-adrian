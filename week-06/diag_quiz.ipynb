{
  "nbformat": 4,
  "nbformat_minor": 0,
  "metadata": {
    "colab": {
      "provenance": []
    },
    "kernelspec": {
      "name": "python3",
      "display_name": "Python 3"
    },
    "language_info": {
      "name": "python"
    }
  },
  "cells": [
    {
      "cell_type": "markdown",
      "source": [
        "**Question 1.** What is the magnitude of $2 - \\sqrt{2}i$?"
      ],
      "metadata": {
        "id": "DQIFJMKhRTCt"
      }
    },
    {
      "cell_type": "markdown",
      "source": [
        "Answer: By definition $|a + bi| = \\sqrt{a^2+b^2}$.\n",
        "\n",
        "In our case $a = 2$ and $b=-\\sqrt{2}$.\n",
        "\n",
        "So $|2-\\sqrt{2}i| = \\sqrt{2^2+(-\\sqrt{2})^2} = \\sqrt{4+2} = \\sqrt{6}.$"
      ],
      "metadata": {
        "id": "OOz21zDXR_-m"
      }
    },
    {
      "cell_type": "markdown",
      "source": [
        "**Question 2.** What is the complex conjugate of $e^{\\frac{\\pi i}{3}}$?"
      ],
      "metadata": {
        "id": "cDvUbxzlSR23"
      }
    },
    {
      "cell_type": "markdown",
      "source": [
        "Answer: For every complex number $z = a + bi$ we have\n",
        "\n",
        "*   $z = a +ib = r e^{i\\theta} = r (\\cos{\\theta} + i \\sin{\\theta})$\n",
        "*   where $r = |z| = \\sqrt{a^2 + b^2}$ and $\\tan{\\theta}=\\frac{b}{a}$\n",
        "\n",
        "So for $e^{\\frac{\\pi i}{3}}$ we have $r = 1$ and $\\theta = \\frac{\\pi}{3}$ which means\n",
        "$z = \\cos{\\frac{\\pi}{3}} + i \\sin{\\frac{\\pi}{3}} = \\frac{1}{2} + i \\frac{\\sqrt{3}}{2}$.\n",
        "\n",
        "The complex conjugate of a complex number $z = a + i b$ is $z^* = a - i b$.\n",
        "\n",
        "So the answer to our question is: $\\frac{1}{2} - i \\frac{\\sqrt{3}}{2}$."
      ],
      "metadata": {
        "id": "dklkdZRxSf2-"
      }
    },
    {
      "cell_type": "markdown",
      "source": [
        "**Question 3.** Compute $\\begin{pmatrix} -1 & 1 \\\\ 3 & -1 \\end{pmatrix}\n",
        "\\cdot \\begin{pmatrix} 0 & 1 \\\\ 2 & 0 \\end{pmatrix} $\n"
      ],
      "metadata": {
        "id": "flmdc_gIS8K3"
      }
    },
    {
      "cell_type": "markdown",
      "source": [
        "Answer: $\\begin{pmatrix} -1 \\cdot 0 + 1 \\cdot 2 & -1 \\cdot 1 + 1 \\cdot 0 \\\\\n",
        "3 \\cdot 0 + (-1) \\cdot 2 & 3 \\cdot 1 + (-1) \\cdot 0 \\end{pmatrix} =\n",
        "\\begin{pmatrix} 2 & -1 \\\\ -2 & 3\\end{pmatrix}$"
      ],
      "metadata": {
        "id": "QfRxSns3TLan"
      }
    },
    {
      "cell_type": "markdown",
      "source": [
        "**Question 4.** For each pair of matrices indicate if they commute.\n",
        "\n",
        "(Matrices $A$ and $B$ are said to commute if $AB = BA$).\n",
        "\n",
        "(a) $A = \\begin{pmatrix} 0 & 1 \\\\ 1 & 0 \\end{pmatrix} \\textrm{and}~B = \\begin{pmatrix} 1 & 0 \\\\ 0 & 1 \\end{pmatrix} $\n",
        "\n",
        "(b) $\\begin{pmatrix} 0 & 1 \\\\ 1 & 0 \\end{pmatrix} \\textrm{and} \\begin{pmatrix} 1 & 0 \\\\ 0 & -1 \\end{pmatrix} $\n",
        "\n",
        "(c) $A = \\begin{pmatrix} 1 & 1 \\\\ 1 & -1 \\end{pmatrix} \\textrm{and}~B = \\begin {pmatrix} 0 & 1 \\\\ 1 & 0 \\end{pmatrix}$\n",
        "\n",
        "(d) $A = \\begin{pmatrix} 1 & 1 \\\\ 1 & -1 \\end{pmatrix} \\textrm{and}~B = \\begin{pmatrix} 1 & 0 \\\\ 0 & 1 \\end{pmatrix}$\n",
        "\n",
        "(e) $A = \\begin{pmatrix} 2 & 0 \\\\ 0 & -1 \\end{pmatrix} \\textrm{and}~B= \\begin{pmatrix} 3 & 0 \\\\ 0 & 2 \\end{pmatrix}$"
      ],
      "metadata": {
        "id": "uSuEc9u7TZuP"
      }
    },
    {
      "cell_type": "markdown",
      "source": [
        "Question 4. For each pair of matrices indicate if they commute.\n",
        "\n",
        "(Matrices $A$ and $B$ are said to commute if $AB = BA$).\n",
        "\n",
        "(a) $A = \\begin{pmatrix} 0 & 1 \\\\ 1 & 0 \\end{pmatrix} \\textrm{and}~B = \\begin{pmatrix} 1 & 0 \\\\ 0 & 1 \\end{pmatrix} $\n",
        "\n",
        "Second matrix is the identity so the answer here is: yes (here, $AB = BA = A$).\n",
        "\n",
        "(b) $\\begin{pmatrix} 0 & 1 \\\\ 1 & 0 \\end{pmatrix} \\textrm{and} \\begin{pmatrix} 1 & 0 \\\\ 0 & -1 \\end{pmatrix} $\n",
        "\n",
        "Here $AB = \\begin{pmatrix} 0 & -1 \\\\ 1 & 0 \\end{pmatrix} \\ne \\begin{pmatrix} 0 & 1 \\\\ -1 & 0 \\end{pmatrix} = BA$ so the answer is: no.\n",
        "\n",
        "We can multiply by hand, via Wolfram Alpha or using Python (numpy)."
      ],
      "metadata": {
        "id": "wEmhxBjlUsn3"
      }
    },
    {
      "cell_type": "code",
      "source": [
        "import numpy as np\n",
        "\n",
        "A = np.matrix([[0, 1], [1, 0]])\n",
        "B = np.matrix([[1, 0], [0, -1]])\n",
        "\n",
        "print(np.dot(A, B))\n",
        "print(np.dot(B, A))"
      ],
      "metadata": {
        "colab": {
          "base_uri": "https://localhost:8080/"
        },
        "id": "9ycpKyygUt4v",
        "outputId": "d8161451-561a-4b8d-cc40-adb845c3f6e7"
      },
      "execution_count": null,
      "outputs": [
        {
          "output_type": "stream",
          "name": "stdout",
          "text": [
            "[[ 0 -1]\n",
            " [ 1  0]]\n",
            "[[ 0  1]\n",
            " [-1  0]]\n"
          ]
        }
      ]
    },
    {
      "cell_type": "markdown",
      "source": [
        "(c) $A = \\begin{pmatrix} 1 & 1 \\\\ 1 & -1 \\end{pmatrix} \\textrm{and}~B = \\begin {pmatrix} 0 & 1 \\\\ 1 & 0 \\end{pmatrix}$\n",
        "\n",
        "Answer: I will let you prepare the answer for this one.\n",
        "\n",
        "(d) $A = \\begin{pmatrix} 1 & 1 \\\\ 1 & -1 \\end{pmatrix} \\textrm{and}~B = \\begin{pmatrix} 1 & 0 \\\\ 0 & 1 \\end{pmatrix}$\n",
        "\n",
        "Answer: second matrix is the identity here.\n",
        "\n",
        "(e) $A = \\begin{pmatrix} 2 & 0 \\\\ 0 & -1 \\end{pmatrix} \\textrm{and}~B= \\begin{pmatrix} 3 & 0 \\\\ 0 & 2 \\end{pmatrix}$\n",
        "\n",
        "Answer: Two diagonal matrices always commute.\n",
        "\n",
        "Please let me know though what the value of $AB$ is and how you calculated it."
      ],
      "metadata": {
        "id": "nf-9kX7CVGw4"
      }
    },
    {
      "cell_type": "markdown",
      "source": [
        "**Question 5**: What is (i.e., determine) a unit vector in\n",
        "$\\mathbb{R}^2$ that makes a $\\frac{\\pi}{4}$ angle with both the $x$- and $y$-axes?\n",
        "\n",
        "Answer: $r = 1$ and $\\theta=\\frac{\\pi}{4}$ so $z = \\cos{\\frac{\\pi}{4}}+i\\sin{\\frac{\\pi}{4}} = \\frac{\\sqrt{2}}{2} + i \\frac{\\sqrt{2}}{2}$.\n",
        "We can also write this as $\\begin{pmatrix}\n",
        "\\frac{1}{\\sqrt{2}}\\\\[0.5ex]\n",
        "\\frac{1}{\\sqrt{2}}\n",
        "\\end{pmatrix}$.\n",
        "\n",
        "**Question 6**: What is a real unit vector in\n",
        "$\\mathbb{R}^2$ orthogonal to $\\begin{pmatrix}\n",
        "\\frac{1}{\\sqrt{3}}\\\\[0.5ex]\n",
        "\\frac{\\sqrt{2}}{\\sqrt{3}}\n",
        "\\end{pmatrix}$?\n",
        "\n",
        "Answer: we need to determine a vector $\\begin{pmatrix}\n",
        "a\\\\[0.5ex]\n",
        "b\n",
        "\\end{pmatrix}$ such that \\begin{cases} \\frac{a}{\\sqrt{3}}+ \\frac{{b\\sqrt{2}}}{\\sqrt{3}} = 0 \\\\ a^2 + b^2 = 1\\end{cases}\n",
        "\n",
        "The first condition is the orthogonality the second that it's a unit vector.\n",
        "\n",
        "We can solve this by hand, in Wolfram Alpha or in Python. An answer is: $\\begin{pmatrix}\n",
        "\\frac{\\sqrt{2}}{\\sqrt{3}}\\\\[0.5ex]\n",
        "-\\frac{1}{\\sqrt{3}}\n",
        "\\end{pmatrix}$"
      ],
      "metadata": {
        "id": "gmrNLfwjaGSq"
      }
    },
    {
      "cell_type": "code",
      "source": [
        "from sympy import *\n",
        "\n",
        "a, b = symbols('a, b')\n",
        "eq1 = Eq(a/sqrt(3)+b*sqrt(2)/sqrt(3), 0)\n",
        "eq2 = Eq(a**2+b**2, 1)\n",
        "sol = solve([eq1, eq2], [a, b])\n",
        "print(sol)"
      ],
      "metadata": {
        "colab": {
          "base_uri": "https://localhost:8080/"
        },
        "id": "kfl52ooHaHfR",
        "outputId": "87b29745-45bd-4c2d-8198-90a6f1214082"
      },
      "execution_count": 1,
      "outputs": [
        {
          "output_type": "stream",
          "name": "stdout",
          "text": [
            "[(-sqrt(6)/3, sqrt(3)/3), (sqrt(6)/3, -sqrt(3)/3)]\n"
          ]
        }
      ]
    },
    {
      "cell_type": "markdown",
      "source": [
        "**Question 7**: What is the inner product\n",
        "between the vectors $\\begin{pmatrix}\n",
        "\\frac{\\sqrt{3}}{2}\\\\[0.5ex]\n",
        "\\frac{1}{2}\n",
        "\\end{pmatrix} \\textrm{and}\n",
        "\\begin{pmatrix}\n",
        "\\frac{1}{2}\\\\[0.5ex]\n",
        "\\frac{\\sqrt{3}}{2}\n",
        "\\end{pmatrix}$ ?\n",
        "\n",
        "The inner product is the sum of products of the corresponding elements:\n",
        "\n",
        "We calculate as follows from the given vectors $\\frac{\\sqrt{3}}{2} \\cdot \\frac{1}{2} + \\frac{1}{2} \\cdot \\frac{\\sqrt{3}}{2} = 2 \\cdot \\frac{\\sqrt{3}}{4} = \\frac{\\sqrt{3}}{2}$\n",
        "\n",
        "**Question 8**. And what is the angle between the two vectors in degrees?\n",
        "\n",
        "To calculate the cosine of the angle between two vectors in a 2D space:\n",
        "\n",
        "* Find the dot product of the vectors.\n",
        "* Divide the dot product by the magnitude of the first vector.\n",
        "* Divide the resultant by the magnitude of the second vector\n",
        "\n",
        "So here $\\cos{\\theta} = \\frac{\\frac{\\sqrt{3}}{2}}{(\\frac{3}{4} + \\frac{1}{4}) (\\frac{1}{4} + \\frac{3}{4})} = \\frac{\\sqrt{3}}{2}$ so $\\theta = 30^\\circ = \\frac{\\pi}{6}$."
      ],
      "metadata": {
        "id": "sA_EXCfyc91c"
      }
    },
    {
      "cell_type": "code",
      "source": [
        "import numpy as np\n",
        "\n",
        "v1 = np.array([[np.sqrt(3)/2], [1/2]])\n",
        "v2 = np.array([[1/2], [np.sqrt(3)/2]])\n",
        "inner_result = np.vdot(v1, v2)\n",
        "print(inner_result)\n",
        "np.degrees(np.arccos(inner_result))"
      ],
      "metadata": {
        "colab": {
          "base_uri": "https://localhost:8080/"
        },
        "id": "XaG1ENzqc_CL",
        "outputId": "ba7baf38-53c2-4e4f-f867-0aaaf8b8dca0"
      },
      "execution_count": 3,
      "outputs": [
        {
          "output_type": "stream",
          "name": "stdout",
          "text": [
            "0.8660254037844386\n"
          ]
        },
        {
          "output_type": "execute_result",
          "data": {
            "text/plain": [
              "np.float64(30.000000000000004)"
            ]
          },
          "metadata": {},
          "execution_count": 3
        }
      ]
    },
    {
      "cell_type": "markdown",
      "source": [
        "**Problem 9**: Determine the eigenvalues of the matrix $\n",
        "\\begin{pmatrix}\n",
        "0&1\\\\\n",
        "1&0\n",
        "\\end{pmatrix} $\n",
        "\n",
        "Answer: $-1, 1$\n",
        "\n",
        "**Problem 10**: Determine the eigenvector corresponding to the largest eigenvalue of the above matrix.\n",
        "\n",
        "What other eigenvectors does the matrix have?\n",
        "\n",
        "Answer: $\\begin{pmatrix}\n",
        "\\frac{1}{\\sqrt{2}}\\\\[0.5ex]\n",
        "\\frac{1}{\\sqrt{2}}\n",
        "\\end{pmatrix}$ and $\\begin{pmatrix}\n",
        "-\\frac{1}{\\sqrt{2}}\\\\[0.5ex]\n",
        "\\frac{1}{\\sqrt{2}}\n",
        "\\end{pmatrix}$"
      ],
      "metadata": {
        "id": "OzC-AM_YeHg2"
      }
    },
    {
      "cell_type": "code",
      "source": [],
      "metadata": {
        "id": "ijKNNJfReLRT"
      },
      "execution_count": null,
      "outputs": []
    }
  ]
}