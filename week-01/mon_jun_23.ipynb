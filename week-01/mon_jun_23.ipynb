{
  "nbformat": 4,
  "nbformat_minor": 0,
  "metadata": {
    "colab": {
      "provenance": []
    },
    "kernelspec": {
      "name": "python3",
      "display_name": "Python 3"
    },
    "language_info": {
      "name": "python"
    }
  },
  "cells": [
    {
      "cell_type": "code",
      "execution_count": null,
      "metadata": {
        "colab": {
          "base_uri": "https://localhost:8080/"
        },
        "id": "IMEYd4WvB54m",
        "outputId": "fbf2a4b3-7a02-478f-fb57-07bed229c950"
      },
      "outputs": [
        {
          "output_type": "stream",
          "name": "stdout",
          "text": [
            "0.6620370370370371\n"
          ]
        }
      ],
      "source": [
        "(count, good) = (6 * 6 * 6, 0)\n",
        "for d1 in range(1, 7):\n",
        "  for d2 in range(1, 7):\n",
        "    for d3 in range(1, 7):\n",
        "      sum = d1 + d2 + d3\n",
        "      if sum in  [3, 5, 7, 11, 13, 17]:\n",
        "        pass\n",
        "      else:\n",
        "        good += 1\n",
        "print(good/count)\n"
      ]
    },
    {
      "cell_type": "markdown",
      "source": [
        "I can write $\\frac{1}{\\sqrt{1 + \\frac{1}{1 + \\sqrt{2}}}}$"
      ],
      "metadata": {
        "id": "8vIvgMgDDwro"
      }
    },
    {
      "cell_type": "code",
      "source": [],
      "metadata": {
        "id": "J5pTbsjHEDcH"
      },
      "execution_count": null,
      "outputs": []
    }
  ]
}