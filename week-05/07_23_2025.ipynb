{
  "nbformat": 4,
  "nbformat_minor": 0,
  "metadata": {
    "colab": {
      "provenance": []
    },
    "kernelspec": {
      "name": "python3",
      "display_name": "Python 3"
    },
    "language_info": {
      "name": "python"
    }
  },
  "cells": [
    {
      "cell_type": "code",
      "execution_count": null,
      "metadata": {
        "id": "BvG2KfI2agcm"
      },
      "outputs": [],
      "source": [
        "!pip install qiskit"
      ]
    },
    {
      "cell_type": "code",
      "source": [
        "!pip install pylatexenc"
      ],
      "metadata": {
        "id": "K8wdZaJ6a3BJ"
      },
      "execution_count": null,
      "outputs": []
    },
    {
      "cell_type": "code",
      "source": [
        "import qiskit, pylatexenc\n",
        "from qiskit import QuantumCircuit\n",
        "from qiskit.quantum_info import Operator"
      ],
      "metadata": {
        "id": "Xir7H9q5a8rQ"
      },
      "execution_count": 3,
      "outputs": []
    },
    {
      "cell_type": "code",
      "source": [
        "def circuit():\n",
        "  q = qiskit.QuantumCircuit(2)\n",
        "  q.cx(1, 0)\n",
        "  q.cx(0, 1)\n",
        "  q.cx(1, 0)\n",
        "  return q"
      ],
      "metadata": {
        "id": "ZUnkjRi5cLS8"
      },
      "execution_count": 12,
      "outputs": []
    },
    {
      "cell_type": "code",
      "source": [
        "circuit().draw(output='mpl')"
      ],
      "metadata": {
        "colab": {
          "base_uri": "https://localhost:8080/",
          "height": 191
        },
        "id": "hlSkG5T6cY0C",
        "outputId": "df475669-d70f-4d70-da40-4c6620f92884"
      },
      "execution_count": 13,
      "outputs": [
        {
          "output_type": "execute_result",
          "data": {
            "text/plain": [
              "<Figure size 370.906x200.667 with 1 Axes>"
            ],
            "image/png": "[encoded data removed]"
          },
          "metadata": {},
          "execution_count": 13
        }
      ]
    },
    {
      "cell_type": "code",
      "source": [
        "Operator.from_circuit(circuit()).draw(output='latex')"
      ],
      "metadata": {
        "colab": {
          "base_uri": "https://localhost:8080/",
          "height": 98
        },
        "id": "9BxmYYvWcdGy",
        "outputId": "11c96d8f-7f0b-44d8-8632-149af99335d2"
      },
      "execution_count": 14,
      "outputs": [
        {
          "output_type": "execute_result",
          "data": {
            "text/plain": [
              "<IPython.core.display.Latex object>"
            ],
            "text/latex": "$$\n\n\\begin{bmatrix}\n1 & 0 & 0 & 0  \\\\\n 0 & 0 & 1 & 0  \\\\\n 0 & 1 & 0 & 0  \\\\\n 0 & 0 & 0 & 1  \\\\\n \\end{bmatrix}\n$$"
          },
          "metadata": {},
          "execution_count": 14
        }
      ]
    },
    {
      "cell_type": "code",
      "source": [
        "def alternate():\n",
        "  q = qiskit.QuantumCircuit(2)\n",
        "  q.swap(1, 0)\n",
        "  return q"
      ],
      "metadata": {
        "id": "TtXcfXG0co5I"
      },
      "execution_count": 15,
      "outputs": []
    },
    {
      "cell_type": "code",
      "source": [
        "Operator.from_circuit(alternate()).draw(output='latex')"
      ],
      "metadata": {
        "colab": {
          "base_uri": "https://localhost:8080/",
          "height": 98
        },
        "id": "AtV3KFlpdpxl",
        "outputId": "93bb6425-4161-4369-fdbc-4b6792ea1ccd"
      },
      "execution_count": 16,
      "outputs": [
        {
          "output_type": "execute_result",
          "data": {
            "text/plain": [
              "<IPython.core.display.Latex object>"
            ],
            "text/latex": "$$\n\n\\begin{bmatrix}\n1 & 0 & 0 & 0  \\\\\n 0 & 0 & 1 & 0  \\\\\n 0 & 1 & 0 & 0  \\\\\n 0 & 0 & 0 & 1  \\\\\n \\end{bmatrix}\n$$"
          },
          "metadata": {},
          "execution_count": 16
        }
      ]
    },
    {
      "cell_type": "code",
      "source": [],
      "metadata": {
        "id": "BopTeWkYdukd"
      },
      "execution_count": null,
      "outputs": []
    }
  ]
}